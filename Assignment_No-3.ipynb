{
 "cells": [
  {
   "cell_type": "markdown",
   "id": "2604d1be-ec8d-4b51-8439-4bac7656c873",
   "metadata": {},
   "source": [
    "# Question 1. \n",
    "\n",
    "Write program to check a person’s eligibility for a loan based on age, credit score, and income. \n",
    "\n",
    "This time, the eligibility criteria will be: \n",
    "\n",
    "• The person must be 18 years or older.  \n",
    "• The person must have a credit score of 650 or higher.  \n",
    "• The person must have an annual income of at least 30000 dollars.  \n",
    "• If the person has a credit score of 700 or higher, they may still be eligible with an income of 25000 dollars or more."
   ]
  },
  {
   "cell_type": "code",
   "execution_count": 1,
   "id": "d7af17df-b895-43c9-b1ca-c99307dfff0a",
   "metadata": {},
   "outputs": [
    {
     "name": "stdin",
     "output_type": "stream",
     "text": [
      "Enter your age:  24\n",
      "Enter your credit score:  683\n",
      "Enter your annual income: $ 75000\n"
     ]
    },
    {
     "name": "stdout",
     "output_type": "stream",
     "text": [
      "Eligible for loan.\n"
     ]
    }
   ],
   "source": [
    "age = int(input(\"Enter your age: \"))\n",
    "\n",
    "if age < 18:\n",
    "    print( \"Not eligible: You're underage.\")\n",
    "else:\n",
    "    credit = int(input(\"Enter your credit score: \"))\n",
    "    annual_income = float(input(\"Enter your annual income: $\"))\n",
    "    if credit >= 650 and annual_income >= 30000:\n",
    "        print( \"Eligible for loan.\")\n",
    "    else:\n",
    "        print( \"Not eligible: Credit score or income too low.\")\n",
    "        if credit >= 700:\n",
    "            if annual_income >= 25000:\n",
    "                print( \"Eligible for loan.\")\n",
    "            else:\n",
    "                print( \"Not eligible: Income below $25,000.\")"
   ]
  },
  {
   "cell_type": "markdown",
   "id": "0c39ba94-0133-4d0e-8c05-2e8ca43285ee",
   "metadata": {},
   "source": [
    "________________________________________________________________________________________________________________________________________________________"
   ]
  },
  {
   "cell_type": "markdown",
   "id": "3a2ce4e9-2563-401b-a37e-274432caaab5",
   "metadata": {},
   "source": [
    "# Question 2."
   ]
  },
  {
   "cell_type": "raw",
   "id": "0c7c76cc-0f1b-4b4f-b1e4-e139255bdb75",
   "metadata": {},
   "source": [
    "Write a Python program that checks if a person is an adult (age ≥ 18).\n",
    "\n",
    "Take the age as input.\n",
    "If the person is underage (age < 18), show message: \"You are underage\" and don't ask for experience.\n",
    "\n",
    "If the person is an adult, take years of experience as input and print: \n",
    "• \"You have a lot of experience.\" (10+ years). \n",
    "• \"You have moderate experience.\" (5-9 years). \n",
    "• \"You are relatively new.\" (2-4 years). \n",
    "• \"You are just starting out.\" (less than 2 years). "
   ]
  },
  {
   "cell_type": "code",
   "execution_count": 2,
   "id": "63278054-f33b-4016-b1fc-862199182709",
   "metadata": {},
   "outputs": [
    {
     "name": "stdin",
     "output_type": "stream",
     "text": [
      "Enter your age:  34\n",
      "Enter your years of experience:  10\n"
     ]
    },
    {
     "name": "stdout",
     "output_type": "stream",
     "text": [
      "You have a lot of experience.\n"
     ]
    }
   ],
   "source": [
    "age = int(input(\"Enter your age: \"))\n",
    "\n",
    "if age < 18:\n",
    "    print(\"You are underage.\")\n",
    "else:\n",
    "    exp = int(input(\"Enter your years of experience: \"))\n",
    "    # Experience level?\n",
    "    if exp >= 10:\n",
    "        print(\"You have a lot of experience.\")\n",
    "    elif exp >= 5:\n",
    "        print(\"You have moderate experience.\")\n",
    "    elif exp >= 2:\n",
    "        print(\"You are relatively new.\")\n",
    "    else:\n",
    "        print(\"You are just starting out.\")"
   ]
  },
  {
   "cell_type": "markdown",
   "id": "c33d0bf3-c803-4cfa-bec0-8c9218acc1de",
   "metadata": {},
   "source": [
    "________________________________________________________________________________________________________________________________________________________"
   ]
  },
  {
   "cell_type": "markdown",
   "id": "bb48263f-fd1a-4259-b50e-c8c84cdff25e",
   "metadata": {},
   "source": [
    "# Question 3. "
   ]
  },
  {
   "cell_type": "raw",
   "id": "2b409992-9e0e-48a3-a23b-f003a597138a",
   "metadata": {},
   "source": [
    "Write a program to explore below variables\n",
    "\n",
    "a) Print their memory address (to check if python assigns same address of different variables having same element)\n",
    "b) Find memory size and append them in a list, use this list to find data type having least memory size\n",
    "c) Print final name of data type which has lowest memory\n",
    "Result will help a programmer to decide which variable is storing less memory and variable locations"
   ]
  },
  {
   "cell_type": "code",
   "execution_count": 3,
   "id": "428ebe8b-e8c2-466e-89b0-167d284fa00e",
   "metadata": {},
   "outputs": [
    {
     "name": "stdout",
     "output_type": "stream",
     "text": [
      "Memory addresses:\n",
      "var1 memory address: 140721743803928\n",
      "var2 memory address: 1959228214736\n",
      "var3 memory address: 1959229753744\n",
      "var4 memory address: 1959229816576\n",
      "var5 memory address: 1959229895040\n",
      "var6 memory address: 1959229698624\n",
      "\n",
      "Checking memory addresses for same data type variables:\n",
      "Memory address of var7 (with same value as var1): 140721743803928\n",
      "Is var1 and var7 pointing to the same memory address? True\n",
      "\n",
      "Memory sizes (in bytes):\n",
      "Memory size of var1 (int): 28 bytes\n",
      "Memory size of var2 (float): 24 bytes\n",
      "Memory size of var3 (str): 46 bytes\n",
      "Memory size of var4 (list): 88 bytes\n",
      "Memory size of var5 (dict): 184 bytes\n",
      "Memory size of var6 (tuple): 64 bytes\n",
      "\n",
      "The data type with the least memory size:\n",
      "var2 (data type:  <class 'float'> ) with 24 bytes.\n"
     ]
    }
   ],
   "source": [
    "import sys\n",
    "\n",
    "#Variables            Types\n",
    "var1 = 100          # Integer\n",
    "var2 = 100.0        # Float\n",
    "var3 = \"Hello\"      # String\n",
    "var4 = [1, 2, 3]    # List\n",
    "var5 = {'key': 1}   # Dictionary\n",
    "var6 = (1, 2, 3)    # Tuple\n",
    "\n",
    "# Store memory size\n",
    "memory_sizes = []\n",
    "\n",
    "#Memory address & size\n",
    "def explore_variables():\n",
    "    print(\"Memory addresses:\")\n",
    "    print(\"var1 memory address:\", id(var1))\n",
    "    print(\"var2 memory address:\", id(var2))\n",
    "    print(\"var3 memory address:\", id(var3))\n",
    "    print(\"var4 memory address:\", id(var4))\n",
    "    print(\"var5 memory address:\", id(var5))\n",
    "    print(\"var6 memory address:\", id(var6))\n",
    "    \n",
    "    # Similarity\n",
    "    print(\"\\nChecking memory addresses for same data type variables:\")\n",
    "    var7 = 100\n",
    "    print(\"Memory address of var7 (with same value as var1):\", id(var7))\n",
    "    print(\"Is var1 and var7 pointing to the same memory address?\", id(var1) == id(var7))\n",
    "    \n",
    "    # Size of variable\n",
    "    print(\"\\nMemory sizes (in bytes):\")\n",
    "    memory_sizes.append(sys.getsizeof(var1))  # Integer\n",
    "    memory_sizes.append(sys.getsizeof(var2))  # Float\n",
    "    memory_sizes.append(sys.getsizeof(var3))  # String\n",
    "    memory_sizes.append(sys.getsizeof(var4))  # List\n",
    "    memory_sizes.append(sys.getsizeof(var5))  # Dictionary\n",
    "    memory_sizes.append(sys.getsizeof(var6))  # Tuple\n",
    "    \n",
    "    print(\"Memory size of var1 (int):\", sys.getsizeof(var1), \"bytes\")\n",
    "    print(\"Memory size of var2 (float):\", sys.getsizeof(var2), \"bytes\")\n",
    "    print(\"Memory size of var3 (str):\", sys.getsizeof(var3), \"bytes\")\n",
    "    print(\"Memory size of var4 (list):\", sys.getsizeof(var4), \"bytes\")\n",
    "    print(\"Memory size of var5 (dict):\", sys.getsizeof(var5), \"bytes\")\n",
    "    print(\"Memory size of var6 (tuple):\", sys.getsizeof(var6), \"bytes\")\n",
    "    \n",
    "    # Find the data type with the least memory size\n",
    "    min_size = min(memory_sizes)\n",
    "    min_index = memory_sizes.index(min_size)\n",
    "    \n",
    "    # Determine the corresponding variable name and its data type\n",
    "    variable_names = ['var1', 'var2', 'var3', 'var4', 'var5', 'var6']\n",
    "    data_types = [int, float, str, list, dict, tuple]\n",
    "    \n",
    "    # Print the variable with the least memory usage\n",
    "    print(\"\\nThe data type with the least memory size:\")\n",
    "    print(variable_names[min_index], \"(data type: \",data_types[min_index],\")\", \"with\", min_size, \"bytes.\")\n",
    "\n",
    "# Run the function\n",
    "explore_variables()"
   ]
  },
  {
   "cell_type": "markdown",
   "id": "f6699f75-c96f-4a7e-8947-83b353dabd50",
   "metadata": {},
   "source": [
    "________________________________________________________________________________________________________________________________________________________"
   ]
  },
  {
   "cell_type": "markdown",
   "id": "0539118c-1c06-4922-8766-6fbd27bead77",
   "metadata": {},
   "source": [
    "# Question 4. "
   ]
  },
  {
   "cell_type": "raw",
   "id": "360d3a55-239d-4879-b962-0863897d2626",
   "metadata": {},
   "source": [
    "Write a Python program that asks the user to enter an email address. \n",
    "The program should check if the email contains the characters @ and \".\" (ignoring case). \n",
    "If either character is present, print \"Email format is valid.\" \n",
    "Otherwise, print \"Invalid email format.\""
   ]
  },
  {
   "cell_type": "code",
   "execution_count": 4,
   "id": "c1ae1b16-dab3-4410-a544-ec36604a485e",
   "metadata": {},
   "outputs": [
    {
     "name": "stdin",
     "output_type": "stream",
     "text": [
      "Enter your email address:  python@gmail.com\n"
     ]
    },
    {
     "name": "stdout",
     "output_type": "stream",
     "text": [
      "Email format is valid.\n"
     ]
    }
   ],
   "source": [
    "email = input(\"Enter your email address: \")\n",
    "\n",
    "if '@' in email and '.' in email:\n",
    "    print(\"Email format is valid.\")\n",
    "else:\n",
    "    print(\"Invalid email format.\")"
   ]
  },
  {
   "cell_type": "markdown",
   "id": "d1256616-1afc-46d7-9442-e672f1688570",
   "metadata": {},
   "source": [
    "________________________________________________________________________________________________________________________________________________________"
   ]
  },
  {
   "cell_type": "markdown",
   "id": "dd5823d9-623b-4f0d-a142-716d13adc6f7",
   "metadata": {},
   "source": [
    "# Question 5. "
   ]
  },
  {
   "cell_type": "raw",
   "id": "d6797d7e-357a-49f0-9e53-5b91f005a2ac",
   "metadata": {},
   "source": [
    "Write a python program to know data type of each element stored in a tuple, append the data types in a list. \n",
    "Show final output in a list as data types of tuple elements\n",
    "x = (11,22.333,'apple',[1,2,3],('a','b'))"
   ]
  },
  {
   "cell_type": "code",
   "execution_count": 18,
   "id": "7511d5ff-068d-4483-bda6-f86759851aab",
   "metadata": {},
   "outputs": [
    {
     "name": "stdout",
     "output_type": "stream",
     "text": [
      "Data types of tuple elements: [<class 'int'>, <class 'float'>, <class 'str'>, <class 'list'>, <class 'tuple'>]\n"
     ]
    }
   ],
   "source": [
    "x = (11, 22.333, 'apple', [1, 2, 3], ('a', 'b'))\n",
    "data_types = []\n",
    "\n",
    "data_types.append(type(x[0]))  # Data type of the first element (11)\n",
    "data_types.append(type(x[1]))  # Data type of the second element (22.333)\n",
    "data_types.append(type(x[2]))  # Data type of the third element ('apple')\n",
    "data_types.append(type(x[3]))  # Data type of the fourth element ([1, 2, 3])\n",
    "data_types.append(type(x[4]))  # Data type of the fifth element (('a', 'b'))\n",
    "\n",
    "print(\"Data types of tuple elements:\", data_types)"
   ]
  },
  {
   "cell_type": "code",
   "execution_count": 19,
   "id": "9ca64e89-e066-4926-9d45-2277815883df",
   "metadata": {},
   "outputs": [
    {
     "name": "stdout",
     "output_type": "stream",
     "text": [
      "Data types of tuple elements: [<class 'int'>, <class 'float'>, <class 'str'>, <class 'list'>, <class 'tuple'>]\n"
     ]
    }
   ],
   "source": [
    "'''Try Loop'''\n",
    "x = (11, 22.333, 'apple', [1, 2, 3], ('a', 'b'))\n",
    "\n",
    "data_types = []\n",
    "#empty list\n",
    "#element = item in tuple\n",
    "for element in x:\n",
    "    data_types.append(type(element))\n",
    "\n",
    "print(\"Data types of tuple elements:\", data_types)\n",
    "\n",
    "#NOTE: In Python, everything is an object(data types), and every object belongs to a class."
   ]
  },
  {
   "cell_type": "markdown",
   "id": "8ea6e1d1-c97f-4140-858e-f3fe64d4ce5c",
   "metadata": {},
   "source": [
    "________________________________________________________________________________________________________________________________________________________"
   ]
  },
  {
   "cell_type": "markdown",
   "id": "00a350ab-6b38-40e2-819c-1eb9894f507a",
   "metadata": {},
   "source": [
    "# Question 6. "
   ]
  },
  {
   "cell_type": "raw",
   "id": "63e41ad2-42c5-4788-ba70-3e1c3501c220",
   "metadata": {},
   "source": [
    "Write a Python program that:\n",
    "Checks if a given username exists in a list of active users.\n",
    "Verifies if the user is the admin using identity operators.\n",
    "Hints:\n",
    "Use a list of tuples where each tuple contains a username and role\n",
    "[(\"alice\", \"admin\"),\n",
    "(\"bob\", \"user\"),\n",
    "(\"charlie\", \"moderator\")]\n",
    "Use the in operator to check if the username exists in the list.\n",
    "Use the is operator to check if the user is the admin (admin is a specific reference, e.g., (\"alice\", \"admin\"))."
   ]
  },
  {
   "cell_type": "markdown",
   "id": "ffe110e5-2cc0-421b-9f9f-cbfe7bddd256",
   "metadata": {},
   "source": [
    "active_users = [(\"alice\", \"admin\"), (\"bob\", \"user\"), (\"charlie\", \"moderator\")]\n",
    "\n",
    "admin_user = (\"alice\", \"admin\")\n",
    "\n",
    "user_input = input(\"Enter username to check: \")\n",
    "\n",
    "user_exists = (user_input, \"admin\") in active_users or (user_input, \"user\") in active_users or (user_input, \"moderator\") in active_users"
   ]
  },
  {
   "cell_type": "code",
   "execution_count": 14,
   "id": "13122673-2070-4196-8474-a85776337535",
   "metadata": {},
   "outputs": [
    {
     "name": "stdin",
     "output_type": "stream",
     "text": [
      "Enter the username to check:  alice\n"
     ]
    },
    {
     "name": "stdout",
     "output_type": "stream",
     "text": [
      "alice is the admin.\n"
     ]
    }
   ],
   "source": [
    "active_users = [(\"alice\", \"admin\"),(\"bob\", \"user\"),(\"charlie\", \"moderator\")]\n",
    "user_input = input(\"Enter the username to check: \")\n",
    "\n",
    "#Use the in operator to check if the username exists in the list.\n",
    "if (user_input, \"admin\") in active_users or (user_input, \"user\") in active_users or (user_input, \"moderator\") in active_users:\n",
    "    user_tuple = (user_input, \"admin\")\n",
    "    if user_tuple == (\"alice\", \"admin\"):  \n",
    "        print(user_input, \"is the admin.\")\n",
    "    else:\n",
    "        print(user_input, \"is not the admin.\")\n",
    "else:\n",
    "    print(user_input, \"does not exist in the active users list.\")"
   ]
  },
  {
   "cell_type": "markdown",
   "id": "52c35e15-3b1e-4eca-bb1b-c153a2ed82fe",
   "metadata": {},
   "source": [
    "### ERROR ⬇"
   ]
  },
  {
   "cell_type": "code",
   "execution_count": 17,
   "id": "e4c3896d-a4e5-489c-864b-1794ff41fd1a",
   "metadata": {},
   "outputs": [
    {
     "name": "stderr",
     "output_type": "stream",
     "text": [
      "<>:9: SyntaxWarning: \"is\" with 'tuple' literal. Did you mean \"==\"?\n",
      "<>:9: SyntaxWarning: \"is\" with 'tuple' literal. Did you mean \"==\"?\n"
     ]
    },
    {
     "name": "stdin",
     "output_type": "stream",
     "text": [
      "Enter the username to check:  alice\n"
     ]
    },
    {
     "name": "stdout",
     "output_type": "stream",
     "text": [
      "alice is not the admin.\n"
     ]
    },
    {
     "name": "stderr",
     "output_type": "stream",
     "text": [
      "C:\\Users\\Anu\\AppData\\Local\\Temp\\ipykernel_1996\\2713347858.py:9: SyntaxWarning: \"is\" with 'tuple' literal. Did you mean \"==\"?\n",
      "  if user_tuple is (\"alice\", \"admin\"):  #Use the is operator to check if the user is the admin\n"
     ]
    }
   ],
   "source": [
    "'''SyntaxWarning: \"is\" with 'tuple' literal. Did you mean \"==\"?'''\n",
    "\n",
    "active_users = [(\"alice\", \"admin\"),(\"bob\", \"user\"),(\"charlie\", \"moderator\")]\n",
    "user_input = input(\"Enter the username to check: \")\n",
    "\n",
    "#Use the in operator to check if the username exists in the list.\n",
    "if (user_input, \"admin\") in active_users or (user_input, \"user\") in active_users or (user_input, \"moderator\") in active_users:\n",
    "    user_tuple = (user_input, \"admin\")\n",
    "    if user_tuple is (\"alice\", \"admin\"):  #Use the is operator to check if the user is the admin\n",
    "        print(user_input, \"is the admin.\")\n",
    "    else:\n",
    "        print(user_input, \"is not the admin.\")\n",
    "else:\n",
    "    print(user_input, \"does not exist in the active users list.\")"
   ]
  },
  {
   "cell_type": "markdown",
   "id": "077b2655-ff19-4447-be14-3e3800f10c49",
   "metadata": {},
   "source": [
    "________________________________________________________________________________________________________________________________________________________"
   ]
  },
  {
   "cell_type": "markdown",
   "id": "97e18436-abc1-4f64-bd22-0dcd2a934e6e",
   "metadata": {},
   "source": [
    "# Question 7. "
   ]
  },
  {
   "cell_type": "raw",
   "id": "b4b96660-dbe1-4d3f-86f0-24fda723254b",
   "metadata": {},
   "source": [
    "person1 has same family as of person2, \n",
    "\n",
    "write a program to print relation between person1 and person2, \n",
    "\n",
    "if their data is ['father name','mother name','district','family number'] same (Print relation 'Siblings') \n",
    "\n",
    "also check person1 data with person3 which is cousin of person1 (Print relation 'Cousin')\n",
    "\n",
    "Hint:\n",
    "Use identity operator"
   ]
  },
  {
   "cell_type": "code",
   "execution_count": 8,
   "id": "5a127a16-9309-4df7-98ff-c34987bb638c",
   "metadata": {},
   "outputs": [
    {
     "name": "stdout",
     "output_type": "stream",
     "text": [
      "Relation between person1 and person2:\n",
      "Siblings\n",
      "\n",
      "Relation between person1 and person3:\n",
      "Cousin\n"
     ]
    }
   ],
   "source": [
    "person1 = ['John', 'Rita', 'DistrictX', '12345']\n",
    "person2 = person1\n",
    "person3 = ['David', 'Sarah', 'DistrictY', '54321']\n",
    "\n",
    "print(\"Relation between person1 and person2:\")\n",
    "if person1 is person2:\n",
    "    print(\"Siblings\")\n",
    "else:\n",
    "    print(\"Not Siblings\")\n",
    "\n",
    "print(\"\\nRelation between person1 and person3:\")\n",
    "if person1 is person3:\n",
    "    print(\"Siblings\")\n",
    "else:\n",
    "    print(\"Cousin\")"
   ]
  },
  {
   "cell_type": "markdown",
   "id": "657899e2-b382-47d2-9bea-a29c91c57a3f",
   "metadata": {},
   "source": [
    "________________________________________________________________________________________________________________________________________________________"
   ]
  },
  {
   "cell_type": "markdown",
   "id": "647c24d7-168c-428c-8b56-970e5d58b7ad",
   "metadata": {},
   "source": [
    "#Question 8. "
   ]
  },
  {
   "cell_type": "raw",
   "id": "86cf5151-810a-427f-a88a-fb24d0d16287",
   "metadata": {},
   "source": [
    "Write a Python program to store and display a book's title, author, year of publication, and price using a tuple.\n",
    "\n",
    "Instructions:\n",
    "Create a tuple to store the book details.\n",
    "Ask the user for the book's title, author, year, and price.\n",
    "Display the stored book information."
   ]
  },
  {
   "cell_type": "code",
   "execution_count": 9,
   "id": "89d397e5-2820-4f36-bf80-f8fa08cb70c8",
   "metadata": {},
   "outputs": [
    {
     "name": "stdin",
     "output_type": "stream",
     "text": [
      "Enter the book's title:  ABCDE\n",
      "Enter the book's author:  ABC\n",
      "Enter the year of publication:  2000\n",
      "Enter the book's price:  345\n"
     ]
    },
    {
     "name": "stdout",
     "output_type": "stream",
     "text": [
      "\n",
      "Stored Book Information:\n",
      "Title: ABCDE\n",
      "Author: ABC\n",
      "Year of Publication: 2000\n",
      "Price: $ 345.0\n"
     ]
    }
   ],
   "source": [
    "title = input(\"Enter the book's title: \")\n",
    "author = input(\"Enter the book's author: \")\n",
    "year = input(\"Enter the year of publication: \")\n",
    "price = float(input(\"Enter the book's price: \"))\n",
    "\n",
    "book_details = (title, author, year, price)\n",
    "\n",
    "print(\"\\nStored Book Information:\")\n",
    "print(\"Title:\", book_details[0])\n",
    "print(\"Author:\", book_details[1])\n",
    "print(\"Year of Publication:\", book_details[2])\n",
    "print(\"Price: $\", book_details[3])"
   ]
  },
  {
   "cell_type": "markdown",
   "id": "f7f12e54-963b-4707-9b87-01c1624c928b",
   "metadata": {},
   "source": [
    "________________________________________________________________________________________________________________________________________________________"
   ]
  },
  {
   "cell_type": "markdown",
   "id": "a7b83624-5377-411d-8f90-b7b4828b422a",
   "metadata": {},
   "source": [
    "#Question 9. "
   ]
  },
  {
   "cell_type": "raw",
   "id": "740a605c-3486-402c-a4f4-5fdfa9aaf057",
   "metadata": {},
   "source": [
    "Write a program to check if a user’s chosen subject is available in the list of offered subjects.\n",
    "Instructions:\n",
    "Given a list of subjects, ask the user to input a subject.\n",
    "Display whether the subject is available or not."
   ]
  },
  {
   "cell_type": "code",
   "execution_count": 20,
   "id": "de750343-5970-4099-942e-6f5ce427c36b",
   "metadata": {},
   "outputs": [
    {
     "name": "stdin",
     "output_type": "stream",
     "text": [
      "Enter the subject you want to check:  Math\n"
     ]
    },
    {
     "name": "stdout",
     "output_type": "stream",
     "text": [
      "Math is available.\n"
     ]
    }
   ],
   "source": [
    "offered_subjects = ['Math', 'Science', 'History', 'English', 'Art', 'Computer Science']\n",
    "\n",
    "chosen_subject = input(\"Enter the subject you want to check: \")\n",
    "\n",
    "if chosen_subject in offered_subjects:\n",
    "    print(chosen_subject, \"is available.\")\n",
    "else:\n",
    "    print(chosen_subject, \"is not available.\")"
   ]
  },
  {
   "cell_type": "code",
   "execution_count": null,
   "id": "7bbd18a2-156c-4874-8da9-3a47316a3196",
   "metadata": {},
   "outputs": [],
   "source": [
    "________________________________________________________________________________________________________________________________________________________"
   ]
  },
  {
   "cell_type": "markdown",
   "id": "bc407b21-3c97-41d6-9306-7225d0598cf7",
   "metadata": {},
   "source": [
    "#Question 10. "
   ]
  },
  {
   "cell_type": "raw",
   "id": "a40ca91e-1f03-4d21-a981-7de9192df225",
   "metadata": {},
   "source": [
    "Write a Python program that performs the following tasks using tuple methods.\n",
    "1. Create a tuple with multiple integer values, including duplicates.\n",
    "2. Prompt the user to input a number and find the index of its first occurrence in the tuple.\n",
    "3. Ask the user for another number and count how many times it appears in the tuple.\n",
    "4. Display appropriate messages based on the results."
   ]
  },
  {
   "cell_type": "code",
   "execution_count": 11,
   "id": "c2a8a980-86b1-4e3d-94b9-d4a86f105398",
   "metadata": {},
   "outputs": [
    {
     "name": "stdin",
     "output_type": "stream",
     "text": [
      "Enter a number to find its first occurrence index:  15\n"
     ]
    },
    {
     "name": "stdout",
     "output_type": "stream",
     "text": [
      "The first occurrence of {15} is at index {5}\n"
     ]
    },
    {
     "name": "stdin",
     "output_type": "stream",
     "text": [
      "\n",
      "Enter another number to count its occurrences:  12\n"
     ]
    },
    {
     "name": "stdout",
     "output_type": "stream",
     "text": [
      "{12} appears {3} times in the tuple.\n"
     ]
    }
   ],
   "source": [
    "#1. \n",
    "numbers = (5, 12, 7, 9, 12, 15, 7, 12, 20)\n",
    "\n",
    "#2\n",
    "user_number1 = int(input(\"Enter a number to find its first occurrence index: \"))\n",
    "\n",
    "if user_number1 in numbers:\n",
    "    index = numbers.index(user_number1)\n",
    "    print(\"The first occurrence of\" , {user_number1} , \"is at index\" , {index})\n",
    "else:\n",
    "    print({user_number1}, \"is not present in the tuple.\")\n",
    "\n",
    "#3\n",
    "user_number2 = int(input(\"\\nEnter another number to count its occurrences: \"))\n",
    "\n",
    "count = numbers.count(user_number2)  # Count how many times the number appears in the tuple\n",
    "\n",
    "if count > 0:\n",
    "    print({user_number2}, \"appears\", {count}, \"times in the tuple.\")\n",
    "else:\n",
    "    print({user_number2}, \"is not present in the tuple\")"
   ]
  },
  {
   "cell_type": "code",
   "execution_count": null,
   "id": "25b9bf75-ffe4-4430-b67e-70fb0e7bdb21",
   "metadata": {},
   "outputs": [],
   "source": [
    "________________________________________________________________________________________________________________________________________________________"
   ]
  },
  {
   "cell_type": "markdown",
   "id": "c3cb1434-d81b-495b-a4b4-434f9e70cc89",
   "metadata": {},
   "source": [
    "#Question for Hard working learners (Not Mandatory)"
   ]
  },
  {
   "cell_type": "raw",
   "id": "b9841a0d-6451-46ac-8b81-c68284f01f04",
   "metadata": {},
   "source": [
    "Write a Python program that asks the user to enter the current temperature in Celsius and checks whether it's freezing, normal, or hot based on predefined temperature values.\"\n",
    "\n",
    "Assignment Requirements:\n",
    "Input: The user will be asked to enter the current temperature in Celsius.\n",
    "Predefined values:\n",
    "Freezing: -5\n",
    "Normal: 25\n",
    "Hot: 40"
   ]
  },
  {
   "cell_type": "code",
   "execution_count": 12,
   "id": "f7715fb2-3c75-4679-ba4e-e3c5e4f2881d",
   "metadata": {},
   "outputs": [
    {
     "name": "stdin",
     "output_type": "stream",
     "text": [
      "Enter the current temperature in Celsius:  -10\n"
     ]
    },
    {
     "name": "stdout",
     "output_type": "stream",
     "text": [
      "The temperature is FREEZING.\n"
     ]
    }
   ],
   "source": [
    "Freezing = -5\n",
    "Normal = 25\n",
    "Hot = 40\n",
    "\n",
    "temperature = float(input(\"Enter the current temperature in Celsius: \"))\n",
    "\n",
    "if temperature <= Freezing:\n",
    "    print(\"The temperature is FREEZING.\")\n",
    "elif temperature <= Normal:\n",
    "    print(\"The temperature is normal.\")\n",
    "elif temperature <= Hot:\n",
    "    print(\"The temperature is Hot.\")\n",
    "else:\n",
    "    print(\"The temperature is extremely Hot.\")"
   ]
  },
  {
   "cell_type": "code",
   "execution_count": null,
   "id": "61ad20b4-8de4-4a16-a6df-0e8e56e3ed21",
   "metadata": {},
   "outputs": [],
   "source": [
    "________________________________________________________________________________________________________________________________________________________"
   ]
  }
 ],
 "metadata": {
  "kernelspec": {
   "display_name": "Python 3 (ipykernel)",
   "language": "python",
   "name": "python3"
  },
  "language_info": {
   "codemirror_mode": {
    "name": "ipython",
    "version": 3
   },
   "file_extension": ".py",
   "mimetype": "text/x-python",
   "name": "python",
   "nbconvert_exporter": "python",
   "pygments_lexer": "ipython3",
   "version": "3.12.7"
  }
 },
 "nbformat": 4,
 "nbformat_minor": 5
}
