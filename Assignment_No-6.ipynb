{
 "cells": [
  {
   "cell_type": "markdown",
   "id": "33fb268b-2579-4158-a3ac-8b22c0ad5176",
   "metadata": {},
   "source": [
    "# Question 1:"
   ]
  },
  {
   "cell_type": "markdown",
   "id": "5a64a1b3-5563-47f4-bf8c-212dfdc61f74",
   "metadata": {},
   "source": [
    "In a transportation system, we have two classes:  \n",
    "•\tElectricVehicle: A class that has a method charge() to charge the vehicle.  \n",
    "•\tGasolineVehicle: A class that has a method fuel_up() to refuel the vehicle.  \n",
    "\n",
    "Create a class HybridCar that inherits from both ElectricVehicle and GasolineVehicle.  \n",
    "The HybridCar class should have a method drive() that prints a message showing the car is being driven.  \n",
    "Instantiate an object of class HybridCar and demonstrate the usage of charge(), fuel_up(), and drive().  \n",
    "\n",
    "Expected Output:  \n",
    "•\tCharging the electric vehicle.  \n",
    "•\tFilling up the gasoline tank.  \n",
    "•\tDriving the hybrid car.  "
   ]
  },
  {
   "cell_type": "code",
   "execution_count": 5,
   "id": "502587cf-cc8b-41bf-9deb-57461328d21f",
   "metadata": {},
   "outputs": [
    {
     "name": "stdout",
     "output_type": "stream",
     "text": [
      "Charging the electric vehicle.\n",
      "Filling up the gasoline tank.\n",
      "Driving the hybrid car.\n"
     ]
    }
   ],
   "source": [
    "class ElectricVehicle:\n",
    "    def charge(self):\n",
    "        print(\"Charging the electric vehicle.\")\n",
    "\n",
    "class GasolineVehicle:\n",
    "    def fuel_up(self):\n",
    "        print(\"Filling up the gasoline tank.\")\n",
    "\n",
    "# inheritence from both classes above\n",
    "class HybridCar(ElectricVehicle, GasolineVehicle):\n",
    "    def drive(self):\n",
    "        print(\"Driving the hybrid car.\")\n",
    "\n",
    "hybrid_car = HybridCar()\n",
    "\n",
    "hybrid_car.charge()    # Charging the electric vehicle.\n",
    "hybrid_car.fuel_up()   # Filling up the gasoline tank.\n",
    "hybrid_car.drive()     # Driving the hybrid car."
   ]
  },
  {
   "cell_type": "markdown",
   "id": "37b15ca4-955c-48d9-a973-ece9e3cf4135",
   "metadata": {},
   "source": [
    "____________________________________________________________________________________________________________________________________________________"
   ]
  },
  {
   "cell_type": "markdown",
   "id": "ba2fc72e-0222-4336-aa5b-ca2da43c4ffc",
   "metadata": {},
   "source": [
    "# Question 2:"
   ]
  },
  {
   "cell_type": "markdown",
   "id": "31074047-d4d1-4883-a355-9b5bd89e0434",
   "metadata": {},
   "source": [
    "Create a class Animal with a method make_sound(), which prints \"Animal makes a sound\". Then, create two subclasses:  \n",
    "•\tLion: Override the make_sound() method to print \"Roar\".  \n",
    "•\tCat: Override the make_sound() method to print \"Meow\".  \n",
    "Demonstrate polymorphism by calling make_sound() on instances of Lion and Cat."
   ]
  },
  {
   "cell_type": "code",
   "execution_count": 6,
   "id": "e446b17f-b528-4700-9068-3de8e5e5c142",
   "metadata": {},
   "outputs": [
    {
     "name": "stdout",
     "output_type": "stream",
     "text": [
      "Roar\n",
      "Meow\n"
     ]
    }
   ],
   "source": [
    "class Animal:\n",
    "    def make_sound(self):\n",
    "        print(\"Animal makes a sound\")\n",
    "\n",
    "class Lion(Animal):\n",
    "    def make_sound(self):\n",
    "        print(\"Roar\")\n",
    "\n",
    "class Cat(Animal):\n",
    "    def make_sound(self):\n",
    "        print(\"Meow\")\n",
    "\n",
    "lion = Lion()\n",
    "cat = Cat()\n",
    "\n",
    "lion.make_sound()  # Roar\n",
    "cat.make_sound()   # Meow"
   ]
  },
  {
   "cell_type": "markdown",
   "id": "700280fe-2e35-42c3-ac85-b49a5e1b9fc7",
   "metadata": {},
   "source": [
    "____________________________________________________________________________________________________________________________________________________"
   ]
  },
  {
   "cell_type": "markdown",
   "id": "4b41d0dc-882c-4b62-8c2b-e769b8d5d83f",
   "metadata": {},
   "source": [
    "# Question 3:"
   ]
  },
  {
   "cell_type": "markdown",
   "id": "e102f63c-a654-43d3-9848-4a185bada31f",
   "metadata": {},
   "source": [
    "Create an abstract class SmartHomeDevice with two abstract methods:  \n",
    "•\tturn_on() (to turn the device on)  \n",
    "•\tturn_off() (to turn the device off)  \n",
    "Then, create a Light class that inherits from SmartHomeDevice.  \n",
    "Implement the methods turn_on() and turn_off() for a light device.  \n",
    "The turn_on() method should print \"Light is ON\", and the turn_off() method should print \"Light is OFF\".  \n",
    "Write a Python program to control the light device in a smart home.  \n",
    "    \n",
    "Expected Output:  \n",
    "•\tTurning on the light...  \n",
    "•\tLight is ON  \n",
    "•\tTurning off the light...  \n",
    "•\tLight is OFF  "
   ]
  },
  {
   "cell_type": "code",
   "execution_count": 3,
   "id": "0cbf4c02-4fe7-4bd1-ab17-30169e28560d",
   "metadata": {},
   "outputs": [
    {
     "name": "stdout",
     "output_type": "stream",
     "text": [
      "Turning on the light...\n",
      "Light is ON\n",
      "Turning off the light...\n",
      "Light is OFF\n"
     ]
    }
   ],
   "source": [
    "from abc import ABC, abstractmethod\n",
    "\n",
    "class SmartHomeDevice(ABC):\n",
    "    @abstractmethod\n",
    "    def turn_on(self):\n",
    "        pass\n",
    "\n",
    "    @abstractmethod\n",
    "    def turn_off(self):\n",
    "        pass\n",
    "\n",
    "class Light(SmartHomeDevice):\n",
    "    def turn_on(self):\n",
    "        print(\"Light is ON\")\n",
    "\n",
    "    def turn_off(self):\n",
    "        print(\"Light is OFF\")\n",
    "\n",
    "light = Light()\n",
    "\n",
    "print(\"Turning on the light...\")\n",
    "light.turn_on()  # Light is ON\n",
    "\n",
    "print(\"Turning off the light...\")\n",
    "light.turn_off()  # Light is OFF\n"
   ]
  },
  {
   "cell_type": "markdown",
   "id": "a4f3ec64-111b-4b9c-9f1d-fdc582ddc965",
   "metadata": {},
   "source": [
    "____________________________________________________________________________________________________________________________________________________"
   ]
  },
  {
   "cell_type": "markdown",
   "id": "c20832f6-701a-48e0-b6f4-72558457e1f3",
   "metadata": {},
   "source": [
    "# Question 4:"
   ]
  },
  {
   "cell_type": "markdown",
   "id": "bb3eaa46-53b2-4de5-a573-4f6e8fe19b5d",
   "metadata": {},
   "source": [
    "Create a class Greeting with a method greet() that can handle different numbers of arguments.  \n",
    "•\tIf no argument is passed, it should print \"Hello!\".  \n",
    "•\tIf one argument (a name) is passed, it should print \"Hello, !\".  \n",
    "•\tIf two arguments (a name and a greeting) are passed, it should print the greeting with the name (e.g., \"Good morning, !\").  \n",
    "Simulate method overloading using default arguments or variable-length arguments, and demonstrate the polymorphic behavior by calling greet() with different numbers of arguments.  \n",
    "\n",
    "Expected Output:  \n",
    "•\tHello!  \n",
    "•\tHello, John!  \n",
    "•\tGood morning, John!  "
   ]
  },
  {
   "cell_type": "code",
   "execution_count": 4,
   "id": "6af6fd2d-0c14-4439-b992-8202a3dbec38",
   "metadata": {},
   "outputs": [
    {
     "name": "stdout",
     "output_type": "stream",
     "text": [
      "Hello!\n",
      "Hello, John!\n",
      "Good morning, John!\n"
     ]
    }
   ],
   "source": [
    "class Greeting:\n",
    "    def greet(self, *args):\n",
    "        if len(args) == 0:\n",
    "            print(\"Hello!\")\n",
    "        elif len(args) == 1:\n",
    "            print(f\"Hello, {args[0]}!\")\n",
    "        elif len(args) == 2:\n",
    "            print(f\"{args[0]}, {args[1]}!\")\n",
    "        else:\n",
    "            print(\"Invalid number of arguments\")\n",
    "\n",
    "greeting = Greeting()\n",
    "\n",
    "greeting.greet()  # Hello!\n",
    "greeting.greet(\"John\")  # Hello, John!\n",
    "greeting.greet(\"Good morning\", \"John\")  # Good morning, John!"
   ]
  },
  {
   "cell_type": "markdown",
   "id": "dca2aef3-e14b-4f74-ae87-af9c8efe8e70",
   "metadata": {},
   "source": [
    "____________________________________________________________________________________________________________________________________________________"
   ]
  },
  {
   "cell_type": "markdown",
   "id": "e269998e-65e1-4fac-8a27-22c1ce84cd5b",
   "metadata": {},
   "source": [
    "# Question 5:"
   ]
  },
  {
   "cell_type": "markdown",
   "id": "c9156416-2bd8-4aac-aa67-6dcaa9779578",
   "metadata": {},
   "source": [
    "Create a class CarRental to manage the rental of cars.  \n",
    "•\tThe class should have private attributes for the car's name, price per day, and the number of rental days.  \n",
    "•\tCreate a method to calculate the total rental cost and a method to set the rental days.  \n",
    "•\tUse getter and setter methods for modifying and accessing the car's information.  \n",
    "Demonstrate encapsulation by creating an object of CarRental and calculating the total rental cost.  \n",
    "\n",
    "Expected Output:  \n",
    "•\tCar Name: Toyota Camry  \n",
    "•\tPrice Per Day: $50  \n",
    "\n",
    "•\tRental Days: 5   \n",
    "•\tTotal Rental Cost: $250   "
   ]
  },
  {
   "cell_type": "code",
   "execution_count": 5,
   "id": "7f31f029-3704-4467-a5b6-c37ac5e9fd1e",
   "metadata": {},
   "outputs": [
    {
     "name": "stdout",
     "output_type": "stream",
     "text": [
      "Car Name: Toyota Camry\n",
      "Price Per Day: $50\n",
      "Rental Days: 5\n",
      "Total Rental Cost: $250\n"
     ]
    }
   ],
   "source": [
    "class CarRental:\n",
    "    def __init__(self, name, price_per_day, rental_days):\n",
    "        self.__name = name  # car's name\n",
    "        self.__price_per_day = price_per_day  # price per day\n",
    "        self.__rental_days = rental_days  # rental days\n",
    "\n",
    "    def get_name(self):\n",
    "        return self.__name\n",
    "\n",
    "    def set_name(self, name):\n",
    "        self.__name = name\n",
    "\n",
    "    def get_price_per_day(self):\n",
    "        return self.__price_per_day\n",
    "\n",
    "    def set_price_per_day(self, price_per_day):\n",
    "        self.__price_per_day = price_per_day\n",
    "\n",
    "    def get_rental_days(self):\n",
    "        return self.__rental_days\n",
    "\n",
    "    def set_rental_days(self, rental_days):\n",
    "        self.__rental_days = rental_days\n",
    "\n",
    "    def calculate_total_cost(self):\n",
    "        return self.__price_per_day * self.__rental_days\n",
    "\n",
    "car_rental = CarRental(\"Toyota Camry\", 50, 5)\n",
    "\n",
    "print(f\"Car Name: {car_rental.get_name()}\")\n",
    "print(f\"Price Per Day: ${car_rental.get_price_per_day()}\")\n",
    "print(f\"Rental Days: {car_rental.get_rental_days()}\")\n",
    "\n",
    "total_cost = car_rental.calculate_total_cost()\n",
    "print(f\"Total Rental Cost: ${total_cost}\")\n"
   ]
  },
  {
   "cell_type": "markdown",
   "id": "5292dd21-65fb-4675-bb75-a930bf6ed9cc",
   "metadata": {},
   "source": [
    "____________________________________________________________________________________________________________________________________________________"
   ]
  }
 ],
 "metadata": {
  "kernelspec": {
   "display_name": "Python 3 (ipykernel)",
   "language": "python",
   "name": "python3"
  },
  "language_info": {
   "codemirror_mode": {
    "name": "ipython",
    "version": 3
   },
   "file_extension": ".py",
   "mimetype": "text/x-python",
   "name": "python",
   "nbconvert_exporter": "python",
   "pygments_lexer": "ipython3",
   "version": "3.12.7"
  }
 },
 "nbformat": 4,
 "nbformat_minor": 5
}
