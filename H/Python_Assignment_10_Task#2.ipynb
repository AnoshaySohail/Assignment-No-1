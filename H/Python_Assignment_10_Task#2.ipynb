{
 "cells": [
  {
   "cell_type": "code",
   "execution_count": null,
   "metadata": {},
   "outputs": [],
   "source": [
    "\n",
    "#-------------------------------------------   Python Assignment 10 \"Task#2\"   -------------------------------------------#\n"
   ]
  },
  {
   "cell_type": "code",
   "execution_count": 1,
   "metadata": {},
   "outputs": [
    {
     "name": "stdout",
     "output_type": "stream",
     "text": [
      "Q1) How many colours are there in the Olympic rings? \n",
      " a) 6 \n",
      " b) 5 \n",
      " c) 4 \n",
      " d) 3\n",
      "Choose the Correct Answer: b\n",
      "\t You're Answer is Correct. \n",
      " \n",
      "Q2) What does Au stand for in the periodic table? \n",
      " a) Gold \n",
      " b) Silver \n",
      " c) Bronze \n",
      " d) Steel \n",
      "Choose the Correct Answer: a\n",
      "\t You're Answer is Correct. \n",
      " \n",
      "Q3) In which year World War I begin? \n",
      " a) 1917 \n",
      " b) 1912 \n",
      " c) 1915 \n",
      " d) 1914 \n",
      "Choose the Correct Answer: d\n",
      "\t You're Answer is Correct. \n",
      " \n",
      "Q4) In which country Adolph Hitler was born? \n",
      " a) America \n",
      " b) Austrailia \n",
      " c) Austria \n",
      " d) Canada \n",
      "Choose the Correct Answer: c\n",
      "\t You're Answer is Correct. \n",
      " \n",
      "Q5) What gets wetter and wetter the more it dries? \n",
      " a) A towel \n",
      " b) A hair dryer \n",
      " c) A brush \n",
      " d) A plant \n",
      "Choose the Correct Answer: a\n",
      "\t You're Answer is Correct. \n",
      " \n"
     ]
    }
   ],
   "source": [
    " quiz = [ \"Q1) How many colours are there in the Olympic rings? \\n a) 6 \\n b) 5 \\n c) 4 \\n d) 3\\n\",\n",
    "        \n",
    "         \"Q2) What does Au stand for in the periodic table? \\n a) Gold \\n b) Silver \\n c) Bronze \\n d) Steel \\n\",\n",
    "        \n",
    "         \"Q3) In which year World War I begin? \\n a) 1917 \\n b) 1912 \\n c) 1915 \\n d) 1914 \\n\",\n",
    "        \n",
    "         \"Q4) In which country Adolph Hitler was born? \\n a) America \\n b) Austrailia \\n c) Austria \\n d) Canada \\n\",\n",
    "        \n",
    "         \"Q5) What gets wetter and wetter the more it dries? \\n a) A towel \\n b) A hair dryer \\n c) A brush \\n d) A plant \\n\"\n",
    "       ]\n",
    "\n",
    "ans = [\"b\", \"a\", \"d\", \"c\", \"a\"]\n",
    "i = 0\n",
    "\n",
    "for question in quiz:\n",
    "    answer = input(question + \"Choose the Correct Answer: \")\n",
    "    if answer.lower() == ans[i]:\n",
    "        i = i+1\n",
    "        print(\"\\t You're Answer is Correct. \\n \")\n",
    "    else:\n",
    "        print(\"\\t You're Answer is Wrong. \\n \")"
   ]
  },
  {
   "cell_type": "code",
   "execution_count": null,
   "metadata": {},
   "outputs": [],
   "source": [
    "\n",
    "#----------------------------------------   Python Assignment 10 \"Task#2\" Completed  ----------------------------------------#\n"
   ]
  }
 ],
 "metadata": {
  "kernelspec": {
   "display_name": "Python 3",
   "language": "python",
   "name": "python3"
  },
  "language_info": {
   "codemirror_mode": {
    "name": "ipython",
    "version": 3
   },
   "file_extension": ".py",
   "mimetype": "text/x-python",
   "name": "python",
   "nbconvert_exporter": "python",
   "pygments_lexer": "ipython3",
   "version": "3.7.6"
  }
 },
 "nbformat": 4,
 "nbformat_minor": 4
}
