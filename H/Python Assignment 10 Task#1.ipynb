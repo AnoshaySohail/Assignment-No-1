{
 "cells": [
  {
   "cell_type": "code",
   "execution_count": null,
   "metadata": {},
   "outputs": [],
   "source": [
    "\n",
    "#-------------------------------------------   Python Assignment 10 \"Task#1\"   -------------------------------------------#\n"
   ]
  },
  {
   "cell_type": "code",
   "execution_count": 16,
   "metadata": {},
   "outputs": [
    {
     "name": "stdout",
     "output_type": "stream",
     "text": [
      "First Value: 5\n",
      "Second Value: 5\n",
      "Write Operator: +\n",
      "10\n"
     ]
    }
   ],
   "source": [
    "a = int(input(\"First Value: \"))\n",
    "b = int(input(\"Second Value: \"))\n",
    "op = input(\"Write Operator: \")\n",
    "\n",
    "def add_num(a,b):\n",
    "    c = a + b\n",
    "    print(c)\n",
    "\n",
    "def min_num(a,b):\n",
    "    c = a - b\n",
    "    print(c)\n",
    "\n",
    "def mul_num(a,b):\n",
    "    c = a * b\n",
    "    print(c)\n",
    "\n",
    "def div_num(a,b):\n",
    "    c = a / b\n",
    "    print(c)\n",
    "    \n",
    "    \n",
    "if op == \"+\":\n",
    "    add_num(a,b)\n",
    "elif op == \"-\":\n",
    "    min_num(a,b)\n",
    "elif op == \"*\":\n",
    "    mul_num(a,b)\n",
    "elif op == \"/\":\n",
    "    div_num(a,b)\n",
    "\n",
    "else:\n",
    "    print(\"Wrong Operator\")"
   ]
  },
  {
   "cell_type": "code",
   "execution_count": 8,
   "metadata": {},
   "outputs": [
    {
     "name": "stdout",
     "output_type": "stream",
     "text": [
      "First Value: 5\n",
      "Second Value: 5\n",
      "Write Operator: -\n",
      "0\n"
     ]
    }
   ],
   "source": [
    "a = int(input(\"First Value: \"))\n",
    "b = int(input(\"Second Value: \"))\n",
    "op = input(\"Write Operator: \")\n",
    "\n",
    "def add_num(a,b):\n",
    "    c = a + b\n",
    "    print(c)\n",
    "\n",
    "def min_num(a,b):\n",
    "    c = a - b\n",
    "    print(c)\n",
    "\n",
    "def mul_num(a,b):\n",
    "    c = a * b\n",
    "    print(c)\n",
    "\n",
    "def div_num(a,b):\n",
    "    c = a / b\n",
    "    print(c)\n",
    "    \n",
    "    \n",
    "if op == \"+\":\n",
    "    add_num(a,b)\n",
    "elif op == \"-\":\n",
    "    min_num(a,b)\n",
    "elif op == \"*\":\n",
    "    mul_num(a,b)\n",
    "elif op == \"/\":\n",
    "    div_num(a,b)\n",
    "\n",
    "else:\n",
    "    print(\"Wrong Operator\")"
   ]
  },
  {
   "cell_type": "code",
   "execution_count": 9,
   "metadata": {},
   "outputs": [
    {
     "name": "stdout",
     "output_type": "stream",
     "text": [
      "First Value: 5\n",
      "Second Value: 5\n",
      "Write Operator: *\n",
      "25\n"
     ]
    }
   ],
   "source": [
    "a = int(input(\"First Value: \"))\n",
    "b = int(input(\"Second Value: \"))\n",
    "op = input(\"Write Operator: \")\n",
    "\n",
    "def add_num(a,b):\n",
    "    c = a + b\n",
    "    print(c)\n",
    "\n",
    "def min_num(a,b):\n",
    "    c = a - b\n",
    "    print(c)\n",
    "\n",
    "def mul_num(a,b):\n",
    "    c = a * b\n",
    "    print(c)\n",
    "\n",
    "def div_num(a,b):\n",
    "    c = a / b\n",
    "    print(c)\n",
    "    \n",
    "    \n",
    "if op == \"+\":\n",
    "    add_num(a,b)\n",
    "elif op == \"-\":\n",
    "    min_num(a,b)\n",
    "elif op == \"*\":\n",
    "    mul_num(a,b)\n",
    "elif op == \"/\":\n",
    "    div_num(a,b)\n",
    "\n",
    "else:\n",
    "    print(\"Wrong Operator\")"
   ]
  },
  {
   "cell_type": "code",
   "execution_count": 10,
   "metadata": {},
   "outputs": [
    {
     "name": "stdout",
     "output_type": "stream",
     "text": [
      "First Value: 5\n",
      "Second Value: 5\n",
      "Write Operator: /\n",
      "1.0\n"
     ]
    }
   ],
   "source": [
    "a = int(input(\"First Value: \"))\n",
    "b = int(input(\"Second Value: \"))\n",
    "op = input(\"Write Operator: \")\n",
    "\n",
    "def add_num(a,b):\n",
    "    c = a + b\n",
    "    print(c)\n",
    "\n",
    "def min_num(a,b):\n",
    "    c = a - b\n",
    "    print(c)\n",
    "\n",
    "def mul_num(a,b):\n",
    "    c = a * b\n",
    "    print(c)\n",
    "\n",
    "def div_num(a,b):\n",
    "    c = a / b\n",
    "    print(c)\n",
    "    \n",
    "    \n",
    "if op == \"+\":\n",
    "    add_num(a,b)\n",
    "elif op == \"-\":\n",
    "    min_num(a,b)\n",
    "elif op == \"*\":\n",
    "    mul_num(a,b)\n",
    "elif op == \"/\":\n",
    "    div_num(a,b)\n",
    "\n",
    "else:\n",
    "    print(\"Wrong Operator\")"
   ]
  },
  {
   "cell_type": "code",
   "execution_count": 13,
   "metadata": {},
   "outputs": [
    {
     "name": "stdout",
     "output_type": "stream",
     "text": [
      "First Value: 5\n",
      "Second Value: 5\n",
      "Write Operator: \\\n",
      "\n",
      "\t You've Entered the Wrong Operator\n"
     ]
    }
   ],
   "source": [
    "a = int(input(\"First Value: \"))\n",
    "b = int(input(\"Second Value: \"))\n",
    "op = input(\"Write Operator: \")\n",
    "\n",
    "def add_num(a,b):\n",
    "    c = a + b\n",
    "    print(c)\n",
    "\n",
    "def min_num(a,b):\n",
    "    c = a - b\n",
    "    print(c)\n",
    "\n",
    "def mul_num(a,b):\n",
    "    c = a * b\n",
    "    print(c)\n",
    "\n",
    "def div_num(a,b):\n",
    "    c = a / b\n",
    "    print(c)\n",
    "    \n",
    "    \n",
    "if op == \"+\":\n",
    "    add_num(a,b)\n",
    "elif op == \"-\":\n",
    "    min_num(a,b)\n",
    "elif op == \"*\":\n",
    "    mul_num(a,b)\n",
    "elif op == \"/\":\n",
    "    div_num(a,b)\n",
    "\n",
    "else:\n",
    "    print(\"\\n\\t You've Entered the Wrong Operator\")"
   ]
  },
  {
   "cell_type": "code",
   "execution_count": null,
   "metadata": {},
   "outputs": [],
   "source": [
    "\n",
    "#----------------------------------------   Python Assignment 10 \"Task#1\" Completed  ----------------------------------------#\n"
   ]
  }
 ],
 "metadata": {
  "kernelspec": {
   "display_name": "Python 3",
   "language": "python",
   "name": "python3"
  },
  "language_info": {
   "codemirror_mode": {
    "name": "ipython",
    "version": 3
   },
   "file_extension": ".py",
   "mimetype": "text/x-python",
   "name": "python",
   "nbconvert_exporter": "python",
   "pygments_lexer": "ipython3",
   "version": "3.7.6"
  }
 },
 "nbformat": 4,
 "nbformat_minor": 4
}
