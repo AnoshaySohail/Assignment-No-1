{
 "cells": [
  {
   "cell_type": "markdown",
   "id": "e0f9ac61-ce94-4c08-8f9b-d114fa0588ec",
   "metadata": {},
   "source": [
    "#Question 1: Age Group Classification \n",
    "\n",
    "Write a Python program that takes the age of a person as input and classifies them into one of the following age groups:\n",
    "\n",
    "\"Child\" if the age is between 0 and 12 (inclusive).\n",
    "\n",
    "\"Teenager\" if the age is between 13 and 19 (inclusive).\n",
    "\n",
    "\"Adult\" if the age is between 20 and 64 (inclusive).\n",
    "\n",
    "\"Senior\" if the age is 65 or older."
   ]
  },
  {
   "cell_type": "code",
   "execution_count": 4,
   "id": "3b0727ae-b7a6-4dad-aaa8-c6430eed4ffd",
   "metadata": {},
   "outputs": [
    {
     "name": "stdin",
     "output_type": "stream",
     "text": [
      "Enter your age: 4\n"
     ]
    },
    {
     "name": "stdout",
     "output_type": "stream",
     "text": [
      "User input: 4\n",
      "Child\n"
     ]
    }
   ],
   "source": [
    "age = int(input(\"Enter your age:\"))\n",
    "print(\"User input:\", age)\n",
    "\n",
    "if age <= 12:\n",
    "    print( \"Child\")\n",
    "elif age <= 19:\n",
    "    print( \"Teenager\")\n",
    "elif age <= 64:\n",
    "    print( \"Adult\")\n",
    "elif age >= 65:\n",
    "    print( \"Senior\")\n",
    "else:\n",
    "    print( \"Invalid age\")"
   ]
  },
  {
   "cell_type": "markdown",
   "id": "13fa7072-ff4e-4d59-a465-64b5b4b2a500",
   "metadata": {},
   "source": [
    "_____________________________________________________________________________________________________________________________________________________"
   ]
  },
  {
   "cell_type": "markdown",
   "id": "02bbff21-8414-4118-ba40-24b1562033d7",
   "metadata": {},
   "source": [
    "#Question 2: Checking for Eligibility for Discount\n",
    "\n",
    "Write a Python program that determines if a customer is eligible for a discount. The program should take the customer's membership status and purchase amount as input and check the following conditions:\n",
    "\n",
    "The customer is a \"premium\" member and the purchase amount is greater than or equal to 1000.\n",
    "\n",
    "The customer is a \"regular\" member and the purchase amount is greater than or equal to 2000.\n",
    "\n",
    "If the customer meets either of the above conditions, print \"Eligible for discount\", otherwise print \"Not eligible for discount\".\n"
   ]
  },
  {
   "cell_type": "code",
   "execution_count": 5,
   "id": "0b4e3df3-3405-434e-8cdf-a1bd179ed1fd",
   "metadata": {},
   "outputs": [
    {
     "name": "stdin",
     "output_type": "stream",
     "text": [
      "Enter your membership status: \n",
      "Type p for premium and r for regular: p\n"
     ]
    },
    {
     "name": "stdout",
     "output_type": "stream",
     "text": [
      "User input: p\n"
     ]
    },
    {
     "name": "stdin",
     "output_type": "stream",
     "text": [
      "Enter your Purchase Amount: 45678\n"
     ]
    },
    {
     "name": "stdout",
     "output_type": "stream",
     "text": [
      "User input: 45678\n",
      "Yahoo! You are Eligible for discount.\n"
     ]
    }
   ],
   "source": [
    "membership = input(\"Enter your membership status: \\nType p for premium and r for regular:\").lower()\n",
    "print(\"User input:\", membership)\n",
    "purchase_amount = int(input(\"Enter your Purchase Amount:\"))\n",
    "print(\"User input:\", purchase_amount)\n",
    "\n",
    "if (membership == \"p\" and purchase_amount >= 1000):\n",
    "    print( \"Yahoo! You are Eligible for discount.\")\n",
    "elif (membership == \"r\" and purchase_amount >= 2000):\n",
    "    print( \"Yahoo! You are Eligible for discount.\")\n",
    "else:\n",
    "    print( \"Sorry! You are Not eligible for discount\")\n"
   ]
  },
  {
   "cell_type": "markdown",
   "id": "243f7da8-a1b7-4644-b1e7-4edf8c6f5a60",
   "metadata": {},
   "source": [
    "_____________________________________________________________________________________________________________________________________________________"
   ]
  },
  {
   "cell_type": "markdown",
   "id": "c29cba22-7d41-495d-b742-0e4d33456d54",
   "metadata": {},
   "source": [
    "#Question 3: Voting Eligibility Check\n",
    "\n",
    "Write a Python program that checks if a person is eligible to vote based on their age and citizenship status. \n",
    "The program should take the following inputs:\n",
    "\n",
    "Age (an integer).\n",
    "\n",
    "Citizenship status (a string: either \"citizen\" or \"non-citizen\").\n",
    "\n",
    "\n",
    "The eligibility conditions are:\n",
    "\n",
    "The person must be at least 18 years old and a \"citizen\" to be eligible to vote.\n",
    "\n",
    "Alternatively, the person can be at least 16 years old and a \"citizen\" of a special region where voting is allowed from age 16.\n",
    "\n",
    "\n",
    "If the person meets either of the conditions, print \"Eligible to vote\", otherwise print \"Not eligible to vote\"."
   ]
  },
  {
   "cell_type": "code",
   "execution_count": 6,
   "id": "544520c1-4e09-4d89-b944-85037b474503",
   "metadata": {},
   "outputs": [
    {
     "name": "stdin",
     "output_type": "stream",
     "text": [
      "Enter your age: 47\n"
     ]
    },
    {
     "name": "stdout",
     "output_type": "stream",
     "text": [
      "User input: 47\n"
     ]
    },
    {
     "name": "stdin",
     "output_type": "stream",
     "text": [
      "Enter your Citizenship status: Are you a citizen? \n",
      "Type y for 'citizen' and n for 'non-citizen'. y\n"
     ]
    },
    {
     "name": "stdout",
     "output_type": "stream",
     "text": [
      "User input: y\n",
      "You are eligible to vote.\n"
     ]
    }
   ],
   "source": [
    "age = int(input(\"Enter your age:\"))\n",
    "print(\"User input:\", age)\n",
    "cs = input(\"Enter your Citizenship status: Are you a citizen? \\nType y for 'citizen' and n for 'non-citizen'.\").lower()\n",
    "print(\"User input:\", cs)\n",
    "\n",
    "if (cs == \"y\" and age >= 18):\n",
    "    print( \"You are eligible to vote.\")\n",
    "elif cs == \"y\" and age >= 16:\n",
    "    print( \"You are eligible to vote only for abc region.\")\n",
    "else:\n",
    "    print( \"You are not eligible to vote.\")"
   ]
  },
  {
   "cell_type": "markdown",
   "id": "2e9fb0f1-ff52-4cf0-aae9-151659ec950b",
   "metadata": {},
   "source": [
    "_____________________________________________________________________________________________________________________________________________________"
   ]
  },
  {
   "cell_type": "markdown",
   "id": "d5158fae-3e16-4bd8-aa58-09eaf22c4f7f",
   "metadata": {},
   "source": [
    "#Question 4: Employee Salary Bonus Eligibility\n",
    "\n",
    "Write a Python program that determines if an employee is eligible for a salary bonus based on the following conditions:\n",
    "\n",
    "The employee's performance rating is \"Excellent\" and their years of service are greater than or equal to 5 years.\n",
    "\n",
    "The employee's performance rating is \"Good\" and their years of service are greater than or equal to 10 years.\n",
    "\n",
    "The employee's performance rating is \"Satisfactory\" or their years of service are greater than or equal to 15 years.\n",
    "\n",
    "The employee is not eligible for a bonus if neither of these conditions is met.\n",
    "\n",
    "The program should print one of the following:\n",
    "\n",
    "\"Eligible for bonus\" if the employee meets any of the criteria.\n",
    "\n",
    "\"Not eligible for bonus\" if none of the conditions apply.\n"
   ]
  },
  {
   "cell_type": "code",
   "execution_count": 7,
   "id": "dfa96500-7b7d-4a7f-8534-f2c7c56937fd",
   "metadata": {},
   "outputs": [
    {
     "name": "stdin",
     "output_type": "stream",
     "text": [
      "Enter your performance rating: \n",
      "Type e for 'Excellent' , g for 'Good' or s for 'Satisfactory'. e\n"
     ]
    },
    {
     "name": "stdout",
     "output_type": "stream",
     "text": [
      "User input: e\n"
     ]
    },
    {
     "name": "stdin",
     "output_type": "stream",
     "text": [
      "Enter your years of service:: 34\n"
     ]
    },
    {
     "name": "stdout",
     "output_type": "stream",
     "text": [
      "User input: 34\n",
      "You are eligible for a bonus\n"
     ]
    }
   ],
   "source": [
    "epr = input(\"Enter your performance rating: \\nType e for 'Excellent' , g for 'Good' or s for 'Satisfactory'.\").lower()\n",
    "print(\"User input:\", epr)\n",
    "yos = int(input(\"Enter your years of service::\"))\n",
    "print(\"User input:\", yos)\n",
    "\n",
    "if (epr == \"e\" or epr == \"g\" or epr == \"s\") and (yos >= 5 or yos >= 10 or yos >= 15) :\n",
    "    print( \"You are eligible for a bonus\")\n",
    "else:\n",
    "    print( \"You are not eligible for a bonus\")"
   ]
  },
  {
   "cell_type": "markdown",
   "id": "2b6e1532-4117-4f90-b9c7-9c14927dd689",
   "metadata": {},
   "source": [
    "_____________________________________________________________________________________________________________________________________________________"
   ]
  },
  {
   "cell_type": "markdown",
   "id": "c940787f-e753-4823-8030-0584de44510e",
   "metadata": {},
   "source": [
    "#Question 5. \n",
    "\n",
    "Write a program that replaces spaces with underscores, counts how many underscores are there, and finds the position of the first underscore.\n",
    "Use text: \"I'm learning Python programming\"?"
   ]
  },
  {
   "cell_type": "code",
   "execution_count": 5,
   "id": "100de628-eadb-4c83-bc9e-9e69e38a1950",
   "metadata": {},
   "outputs": [
    {
     "name": "stdout",
     "output_type": "stream",
     "text": [
      "Original text: I'm learning Python programming\n",
      "Edited text: I'm_learning_Python_programming\n",
      "Number of underscores: 3\n",
      "Position of the first underscore: 3\n"
     ]
    }
   ],
   "source": [
    "txt = \"I'm learning Python programming\"\n",
    "\n",
    "# To replace spaces with underscores\n",
    "etxt = txt.replace(\" \", \"_\")\n",
    "\n",
    "# To count underscores\n",
    "ucount = etxt.count(\"_\")\n",
    "\n",
    "# To find the position of the first underscore\n",
    "first_uposition = etxt.find(\"_\")\n",
    "\n",
    "# Print the results\n",
    "print(\"Original text:\",txt)\n",
    "print(\"Edited text:\", etxt)\n",
    "print(\"Number of underscores:\", ucount)\n",
    "print(\"Position of the first underscore:\", first_uposition)\n"
   ]
  },
  {
   "cell_type": "markdown",
   "id": "d20f7146-b4ee-40cb-bb59-1b2ea715e105",
   "metadata": {},
   "source": [
    "_____________________________________________________________________________________________________________________________________________________"
   ]
  },
  {
   "cell_type": "markdown",
   "id": "90054186-10de-438c-989e-b78ac576ecbb",
   "metadata": {},
   "source": [
    "#Question 6: \n",
    "\n",
    "Write a Python program that:\n",
    "Takes a string as input.\n",
    "\n",
    "•\tPrints all characters of the string except the last 3 using slicing.\n",
    "\n",
    "•\tPrints every second character of the string using slicing.\n",
    "\n",
    "•\tPrints the string in reverse using slicing"
   ]
  },
  {
   "cell_type": "code",
   "execution_count": 8,
   "id": "dee2aa4f-3565-42e0-808f-362c41039d92",
   "metadata": {},
   "outputs": [
    {
     "name": "stdin",
     "output_type": "stream",
     "text": [
      "Enter a string:  I am Programming\n"
     ]
    },
    {
     "name": "stdout",
     "output_type": "stream",
     "text": [
      "User input: I am Programming\n",
      "#1.  I am Programm\n",
      "#2.  Ia rgamn\n",
      "#3.  gnimmargorP ma I\n"
     ]
    }
   ],
   "source": [
    "text = input(\"Enter a string: \")\n",
    "print(\"User input:\", text)\n",
    "\n",
    "# 1.All characters except the last 3:\n",
    "print(\"#1. \", text[:-3])\n",
    "\n",
    "# 2. Every second character:\n",
    "print(\"#2. \", text[::2])\n",
    "\n",
    "# 3. String in reverse:\n",
    "print(\"#3. \", text[::-1])\n"
   ]
  },
  {
   "cell_type": "markdown",
   "id": "1548e551-0583-44e7-a352-7ad8c0a12fd4",
   "metadata": {},
   "source": [
    "_____________________________________________________________________________________________________________________________________________________"
   ]
  },
  {
   "cell_type": "markdown",
   "id": "19e3eae9-51ae-45f2-ad2b-8681ab0c4344",
   "metadata": {},
   "source": [
    "#Question 7. \n",
    "\n",
    "Given a sentence, you need to reverse the order of the words in the sentence while preserving their original capitalization and spaces.\n",
    "Use text : \"Hello World, We are learning Python\""
   ]
  },
  {
   "cell_type": "code",
   "execution_count": 8,
   "id": "ac7a4796-5f62-41c1-8dba-912730129167",
   "metadata": {},
   "outputs": [
    {
     "name": "stdout",
     "output_type": "stream",
     "text": [
      "Original sentence: Hello World, We are learning Python\n",
      "Reversed sentence: Python learning are We World, Hello\n"
     ]
    }
   ],
   "source": [
    "txt = \"Hello World, We are learning Python\"\n",
    "\n",
    "swords = txt.split()\n",
    "rwords = swords[::-1]\n",
    "rsentence = \" \".join(rwords)\n",
    "\n",
    "# Print the result\n",
    "print(\"Original sentence:\", txt)\n",
    "print(\"Reversed sentence:\", rsentence)\n"
   ]
  },
  {
   "cell_type": "markdown",
   "id": "bc752364-902a-4179-84c2-bb7d8d875717",
   "metadata": {},
   "source": [
    "_____________________________________________________________________________________________________________________________________________________"
   ]
  },
  {
   "cell_type": "markdown",
   "id": "ceda8aeb-ef0e-4da9-a47f-afa713096fe7",
   "metadata": {},
   "source": [
    "#Question 8. \n",
    "\n",
    "You have a product code that follows the format \"SKU-12345-XYZ\". You need to:\n",
    "Remove the \"SKU-\" and the \"-XYZ\" from the product code. Extract and return the number"
   ]
  },
  {
   "cell_type": "code",
   "execution_count": 9,
   "id": "86d01925-33c5-49a9-8bee-6b746e3a1024",
   "metadata": {},
   "outputs": [
    {
     "name": "stdout",
     "output_type": "stream",
     "text": [
      "['SKU', '12345', 'XYZ']\n",
      "Extracted number: 12345\n"
     ]
    }
   ],
   "source": [
    "code = \"SKU-12345-XYZ\"\n",
    "\n",
    "part = code.split(\"-\")\n",
    "\n",
    "number = part[1]\n",
    "\n",
    "#the split part\n",
    "print(part)\n",
    "print(\"Extracted number:\", number)\n"
   ]
  },
  {
   "cell_type": "markdown",
   "id": "ab7236ee-bf4e-4645-8c25-f05d7c12b25d",
   "metadata": {},
   "source": [
    "_____________________________________________________________________________________________________________________________________________________"
   ]
  },
  {
   "cell_type": "markdown",
   "id": "4410c54f-6bed-498b-b65e-b4244aa3d804",
   "metadata": {},
   "source": [
    "#Question 9. \n",
    "\n",
    "Write a Python program to check user password has following:\n",
    "•\tWhether the string contains any uppercase characters. \n",
    "•\tWhether the string contains any lowercase characters. \n",
    "•\tWhether the string contains any spaces. \n",
    "•\tWhether the string contains any special characters (anything other than letters, digits, and spaces)."
   ]
  },
  {
   "cell_type": "code",
   "execution_count": 9,
   "id": "c85d827c-aff7-49f2-9ce8-e0e47cea3aea",
   "metadata": {},
   "outputs": [
    {
     "name": "stdin",
     "output_type": "stream",
     "text": [
      "Enter your password:  Python234!\n"
     ]
    },
    {
     "name": "stdout",
     "output_type": "stream",
     "text": [
      "User input: Python234!\n",
      "Contains uppercase: True\n",
      "Contains lowercase: True\n",
      "Contains spaces: False\n",
      "Contains special characters: True\n"
     ]
    }
   ],
   "source": [
    "password = input(\"Enter your password: \")\n",
    "print(\"User input:\", password)\n",
    "\n",
    "# Function to check password conditions\n",
    "def check_password(password):\n",
    "    has_upper = any(char.isupper() for char in password)\n",
    "    has_lower = any(char.islower() for char in password)\n",
    "    has_space = ' ' in password\n",
    "    has_special = any(not char.isalnum() and not char.isspace() for char in password)\n",
    "\n",
    "    print(\"Contains uppercase:\", has_upper)\n",
    "    print(\"Contains lowercase:\", has_lower)\n",
    "    print(\"Contains spaces:\", has_space)\n",
    "    print(\"Contains special characters:\", has_special)\n",
    "\n",
    "check_password(password)\n"
   ]
  },
  {
   "cell_type": "markdown",
   "id": "65d588b2-b74e-46f2-9629-0387e8b325eb",
   "metadata": {},
   "source": [
    "_____________________________________________________________________________________________________________________________________________________"
   ]
  },
  {
   "cell_type": "markdown",
   "id": "251fa88c-ec6c-4dd0-ad11-6039daeeae79",
   "metadata": {},
   "source": [
    "#Question 10: Find the Longest Word\n",
    "\n",
    "Write a Python program that finds the longest word in a given string.\n",
    "\n",
    "Example:\n",
    "\n",
    "Input: \"I love programming in Python\"\n",
    "Output: \"programming\""
   ]
  },
  {
   "cell_type": "code",
   "execution_count": 2,
   "id": "71dd8282-7285-474f-b1ca-c88031ba775f",
   "metadata": {},
   "outputs": [
    {
     "name": "stdout",
     "output_type": "stream",
     "text": [
      "programming\n"
     ]
    }
   ],
   "source": [
    "txt = \"I love programming in Python\"\n",
    "\n",
    "words = txt.split()\n",
    "\n",
    "longest_word = max(words, key=len)\n",
    "\n",
    "print(longest_word)"
   ]
  },
  {
   "cell_type": "markdown",
   "id": "6d4e332e-eb4b-4402-93f4-a578f0e1c37e",
   "metadata": {},
   "source": [
    "_____________________________________________________________________________________________________________________________________________________"
   ]
  },
  {
   "cell_type": "code",
   "execution_count": null,
   "id": "fc8ca40f-620d-495d-b2d5-6afd29d683e3",
   "metadata": {},
   "outputs": [],
   "source": []
  }
 ],
 "metadata": {
  "kernelspec": {
   "display_name": "Python 3 (ipykernel)",
   "language": "python",
   "name": "python3"
  },
  "language_info": {
   "codemirror_mode": {
    "name": "ipython",
    "version": 3
   },
   "file_extension": ".py",
   "mimetype": "text/x-python",
   "name": "python",
   "nbconvert_exporter": "python",
   "pygments_lexer": "ipython3",
   "version": "3.12.7"
  }
 },
 "nbformat": 4,
 "nbformat_minor": 5
}
