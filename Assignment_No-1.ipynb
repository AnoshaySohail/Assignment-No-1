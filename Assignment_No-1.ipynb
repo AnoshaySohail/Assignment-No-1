{
 "cells": [
  {
   "cell_type": "code",
   "execution_count": 1,
   "id": "ca08dd49-cc79-4e05-b3df-df6ec6fd10b0",
   "metadata": {},
   "outputs": [],
   "source": [
    "salaries = ['20k', '40k', '50k', '60k', '35k', '89k','40k']"
   ]
  },
  {
   "cell_type": "code",
   "execution_count": 2,
   "id": "54752224-12cb-4947-b774-d5f02c92baa5",
   "metadata": {},
   "outputs": [
    {
     "data": {
      "text/plain": [
       "['20k', '40k', '50k', '60k', '35k', '89k', '40k']"
      ]
     },
     "execution_count": 2,
     "metadata": {},
     "output_type": "execute_result"
    }
   ],
   "source": [
    "salaries"
   ]
  },
  {
   "cell_type": "code",
   "execution_count": 3,
   "id": "c9ed89b1-5eec-414d-a16c-be1a5b8c9375",
   "metadata": {},
   "outputs": [
    {
     "data": {
      "text/plain": [
       "7"
      ]
     },
     "execution_count": 3,
     "metadata": {},
     "output_type": "execute_result"
    }
   ],
   "source": [
    "#1. What is the length of the salaries list.\n",
    "\n",
    "len(salaries)"
   ]
  },
  {
   "cell_type": "code",
   "execution_count": 4,
   "id": "3a2bac71-a384-4d67-90d2-855cbc39473b",
   "metadata": {},
   "outputs": [
    {
     "data": {
      "text/plain": [
       "'50k'"
      ]
     },
     "execution_count": 4,
     "metadata": {},
     "output_type": "execute_result"
    }
   ],
   "source": [
    "#2. Retrieve the third salary in the list by using index.\n",
    "\n",
    "salaries[2]"
   ]
  },
  {
   "cell_type": "code",
   "execution_count": 5,
   "id": "9012688e-aeaf-46e8-b344-15b52fc5edd3",
   "metadata": {},
   "outputs": [
    {
     "data": {
      "text/plain": [
       "'40k'"
      ]
     },
     "execution_count": 5,
     "metadata": {},
     "output_type": "execute_result"
    }
   ],
   "source": [
    "#3. Extract the last salary from the list by using a negative index.\n",
    "\n",
    "salaries[-1]"
   ]
  },
  {
   "cell_type": "code",
   "execution_count": 6,
   "id": "161273d0-da19-4590-9a9e-ef158e0d4316",
   "metadata": {},
   "outputs": [
    {
     "data": {
      "text/plain": [
       "['50k', '60k', '35k']"
      ]
     },
     "execution_count": 6,
     "metadata": {},
     "output_type": "execute_result"
    }
   ],
   "source": [
    "#4. Slice the salaries list to get only the middle three salaries.\n",
    "\n",
    "salaries[2:5]"
   ]
  },
  {
   "cell_type": "code",
   "execution_count": 7,
   "id": "f7f9cb43-85a6-4b74-a342-acdd89667474",
   "metadata": {},
   "outputs": [
    {
     "data": {
      "text/plain": [
       "['20k', '40k', '50k', '60k', '35k', '89k', '40k', '100k']"
      ]
     },
     "execution_count": 7,
     "metadata": {},
     "output_type": "execute_result"
    }
   ],
   "source": [
    "#5. Add a new salary to the list, ‘100k’ by using append() method.\n",
    "\n",
    "salaries.append('100k')\n",
    "salaries"
   ]
  },
  {
   "cell_type": "code",
   "execution_count": 8,
   "id": "6b84d93b-5f69-4d15-8a67-cc9d1d475fff",
   "metadata": {},
   "outputs": [
    {
     "data": {
      "text/plain": [
       "['20k', '40k', '50k', '60k', '35k', '89k', '40k', '100k', '120k']"
      ]
     },
     "execution_count": 8,
     "metadata": {},
     "output_type": "execute_result"
    }
   ],
   "source": [
    "#6. Add a new salary to the list, ‘120k’ without method.\n",
    "\n",
    "salaries += ['120k']\n",
    "salaries"
   ]
  },
  {
   "cell_type": "code",
   "execution_count": 9,
   "id": "66236546-0258-4094-bd5d-66fb29382f54",
   "metadata": {},
   "outputs": [
    {
     "name": "stdout",
     "output_type": "stream",
     "text": [
      "['20k', '40k', '55k', '60k', '35k', '89k', '40k', '100k', '120k']\n"
     ]
    }
   ],
   "source": [
    "#7. Replace the third salary in the list with '55k' and print the updated list.\n",
    "\n",
    "salaries[2] = '55k'\n",
    "print(salaries)"
   ]
  },
  {
   "cell_type": "code",
   "execution_count": 10,
   "id": "11bce1be-62f0-40a6-8825-3734b553f8e5",
   "metadata": {},
   "outputs": [
    {
     "data": {
      "text/plain": [
       "2"
      ]
     },
     "execution_count": 10,
     "metadata": {},
     "output_type": "execute_result"
    }
   ],
   "source": [
    "#8. Count how many times '40k' appears in the list.\n",
    "\n",
    "salaries.count('40k')"
   ]
  },
  {
   "cell_type": "code",
   "execution_count": 11,
   "id": "120290ef-7ba6-46de-bd59-bcce2a76018a",
   "metadata": {},
   "outputs": [
    {
     "data": {
      "text/plain": [
       "['20k', '45k', '40k', '55k', '60k', '35k', '89k', '40k', '100k', '120k']"
      ]
     },
     "execution_count": 11,
     "metadata": {},
     "output_type": "execute_result"
    }
   ],
   "source": [
    "#9. Insert a new salary at the second position.\n",
    "\n",
    "salaries.insert(1, '45k')\n",
    "salaries"
   ]
  },
  {
   "cell_type": "code",
   "execution_count": 12,
   "id": "1e4870c8-5415-46cc-b5ce-cc35d8122f88",
   "metadata": {},
   "outputs": [
    {
     "data": {
      "text/plain": [
       "['120k', '100k', '40k', '89k', '35k', '60k', '55k', '40k', '45k', '20k']"
      ]
     },
     "execution_count": 12,
     "metadata": {},
     "output_type": "execute_result"
    }
   ],
   "source": [
    "#10. Reverse the order of the salaries list with method.\n",
    "\n",
    "salaries.reverse()\n",
    "salaries"
   ]
  },
  {
   "cell_type": "code",
   "execution_count": 13,
   "id": "081b626c-c168-44ac-ba65-0fd9b5d69502",
   "metadata": {},
   "outputs": [
    {
     "data": {
      "text/plain": [
       "['20k', '45k', '40k', '55k', '60k', '35k', '89k', '40k', '100k', '120k']"
      ]
     },
     "execution_count": 13,
     "metadata": {},
     "output_type": "execute_result"
    }
   ],
   "source": [
    "#11. Reverse the order of the salaries list without method.\n",
    "\n",
    "salaries = salaries[::-1]\n",
    "salaries"
   ]
  },
  {
   "cell_type": "code",
   "execution_count": 14,
   "id": "bca3a33b-2cd3-48a5-a53d-eca48578f486",
   "metadata": {},
   "outputs": [],
   "source": [
    "#The reversed list will again be reversed to its original form"
   ]
  },
  {
   "cell_type": "code",
   "execution_count": null,
   "id": "871d0551-f19f-46d4-a4fb-6b5f3958eab5",
   "metadata": {},
   "outputs": [],
   "source": []
  }
 ],
 "metadata": {
  "kernelspec": {
   "display_name": "Python 3 (ipykernel)",
   "language": "python",
   "name": "python3"
  },
  "language_info": {
   "codemirror_mode": {
    "name": "ipython",
    "version": 3
   },
   "file_extension": ".py",
   "mimetype": "text/x-python",
   "name": "python",
   "nbconvert_exporter": "python",
   "pygments_lexer": "ipython3",
   "version": "3.12.7"
  }
 },
 "nbformat": 4,
 "nbformat_minor": 5
}
