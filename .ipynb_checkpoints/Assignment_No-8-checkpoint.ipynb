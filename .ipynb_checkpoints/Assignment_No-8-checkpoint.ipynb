{
 "cells": [
  {
   "cell_type": "code",
   "execution_count": 1,
   "id": "02e30c83-48d8-467c-95bf-244236d265a3",
   "metadata": {},
   "outputs": [],
   "source": [
    "#import pandas as pd\n",
    "#import numpy as np\n",
    "#import seaborn as sns                       #visualisation\n",
    "#import matplotlib.pyplot as plt             #visualisation"
   ]
  },
  {
   "cell_type": "code",
   "execution_count": 2,
   "id": "6a21fcfb-88ff-4893-a729-8fccb7194e6c",
   "metadata": {},
   "outputs": [],
   "source": [
    "import pandas as pd"
   ]
  },
  {
   "cell_type": "code",
   "execution_count": 3,
   "id": "97514077-8c5f-4c6d-9e12-a1db2913d9af",
   "metadata": {},
   "outputs": [
    {
     "data": {
      "text/html": [
       "<div>\n",
       "<style scoped>\n",
       "    .dataframe tbody tr th:only-of-type {\n",
       "        vertical-align: middle;\n",
       "    }\n",
       "\n",
       "    .dataframe tbody tr th {\n",
       "        vertical-align: top;\n",
       "    }\n",
       "\n",
       "    .dataframe thead th {\n",
       "        text-align: right;\n",
       "    }\n",
       "</style>\n",
       "<table border=\"1\" class=\"dataframe\">\n",
       "  <thead>\n",
       "    <tr style=\"text-align: right;\">\n",
       "      <th></th>\n",
       "      <th>invoice_no</th>\n",
       "      <th>invoice_date</th>\n",
       "      <th>customer_id</th>\n",
       "      <th>gender</th>\n",
       "      <th>age</th>\n",
       "      <th>category</th>\n",
       "      <th>quantity</th>\n",
       "      <th>selling_price_per_unit</th>\n",
       "      <th>cost_price_per_unit</th>\n",
       "      <th>payment_method</th>\n",
       "      <th>region</th>\n",
       "      <th>state</th>\n",
       "      <th>shopping_mall</th>\n",
       "    </tr>\n",
       "  </thead>\n",
       "  <tbody>\n",
       "    <tr>\n",
       "      <th>0</th>\n",
       "      <td>I138884</td>\n",
       "      <td>10/30/2016 9:58</td>\n",
       "      <td>C241288</td>\n",
       "      <td>Female</td>\n",
       "      <td>28</td>\n",
       "      <td>Clothing</td>\n",
       "      <td>5</td>\n",
       "      <td>1500.40</td>\n",
       "      <td>1425.3800</td>\n",
       "      <td>Credit Card</td>\n",
       "      <td>South</td>\n",
       "      <td>Kentucky</td>\n",
       "      <td>Kanyon</td>\n",
       "    </tr>\n",
       "    <tr>\n",
       "      <th>1</th>\n",
       "      <td>I317333</td>\n",
       "      <td>10/30/2016 9:58</td>\n",
       "      <td>C111565</td>\n",
       "      <td>Male</td>\n",
       "      <td>21</td>\n",
       "      <td>Shoes</td>\n",
       "      <td>3</td>\n",
       "      <td>1800.51</td>\n",
       "      <td>1620.4590</td>\n",
       "      <td>Debit Card</td>\n",
       "      <td>South</td>\n",
       "      <td>Kentucky</td>\n",
       "      <td>Viaport Outlet</td>\n",
       "    </tr>\n",
       "    <tr>\n",
       "      <th>2</th>\n",
       "      <td>I127801</td>\n",
       "      <td>10/30/2016 9:58</td>\n",
       "      <td>C266599</td>\n",
       "      <td>Male</td>\n",
       "      <td>20</td>\n",
       "      <td>Clothing</td>\n",
       "      <td>1</td>\n",
       "      <td>300.08</td>\n",
       "      <td>295.0600</td>\n",
       "      <td>Cash</td>\n",
       "      <td>West</td>\n",
       "      <td>California</td>\n",
       "      <td>Metrocity</td>\n",
       "    </tr>\n",
       "    <tr>\n",
       "      <th>3</th>\n",
       "      <td>I173702</td>\n",
       "      <td>10/30/2016 9:58</td>\n",
       "      <td>C988172</td>\n",
       "      <td>Female</td>\n",
       "      <td>66</td>\n",
       "      <td>Shoes</td>\n",
       "      <td>5</td>\n",
       "      <td>3000.85</td>\n",
       "      <td>2900.7650</td>\n",
       "      <td>Credit Card</td>\n",
       "      <td>South</td>\n",
       "      <td>Florida</td>\n",
       "      <td>Metropol AVM</td>\n",
       "    </tr>\n",
       "    <tr>\n",
       "      <th>4</th>\n",
       "      <td>I337046</td>\n",
       "      <td>10/30/2016 9:59</td>\n",
       "      <td>C189076</td>\n",
       "      <td>Female</td>\n",
       "      <td>53</td>\n",
       "      <td>Books</td>\n",
       "      <td>4</td>\n",
       "      <td>60.60</td>\n",
       "      <td>45.4500</td>\n",
       "      <td>Cash</td>\n",
       "      <td>South</td>\n",
       "      <td>Florida</td>\n",
       "      <td>Kanyon</td>\n",
       "    </tr>\n",
       "    <tr>\n",
       "      <th>...</th>\n",
       "      <td>...</td>\n",
       "      <td>...</td>\n",
       "      <td>...</td>\n",
       "      <td>...</td>\n",
       "      <td>...</td>\n",
       "      <td>...</td>\n",
       "      <td>...</td>\n",
       "      <td>...</td>\n",
       "      <td>...</td>\n",
       "      <td>...</td>\n",
       "      <td>...</td>\n",
       "      <td>...</td>\n",
       "      <td>...</td>\n",
       "    </tr>\n",
       "    <tr>\n",
       "      <th>99452</th>\n",
       "      <td>I219422</td>\n",
       "      <td>11/15/2016 12:43</td>\n",
       "      <td>C441542</td>\n",
       "      <td>Female</td>\n",
       "      <td>45</td>\n",
       "      <td>Souvenir</td>\n",
       "      <td>5</td>\n",
       "      <td>58.65</td>\n",
       "      <td>43.9875</td>\n",
       "      <td>Credit Card</td>\n",
       "      <td>South</td>\n",
       "      <td>Alabama</td>\n",
       "      <td>Kanyon</td>\n",
       "    </tr>\n",
       "    <tr>\n",
       "      <th>99453</th>\n",
       "      <td>I325143</td>\n",
       "      <td>11/15/2016 12:43</td>\n",
       "      <td>C569580</td>\n",
       "      <td>Male</td>\n",
       "      <td>27</td>\n",
       "      <td>Food &amp; Beverage</td>\n",
       "      <td>2</td>\n",
       "      <td>10.46</td>\n",
       "      <td>7.3220</td>\n",
       "      <td>Cash</td>\n",
       "      <td>South</td>\n",
       "      <td>Alabama</td>\n",
       "      <td>Viaport Outlet</td>\n",
       "    </tr>\n",
       "    <tr>\n",
       "      <th>99454</th>\n",
       "      <td>I824010</td>\n",
       "      <td>11/15/2016 12:44</td>\n",
       "      <td>C103292</td>\n",
       "      <td>Male</td>\n",
       "      <td>63</td>\n",
       "      <td>Food &amp; Beverage</td>\n",
       "      <td>2</td>\n",
       "      <td>10.46</td>\n",
       "      <td>7.3220</td>\n",
       "      <td>Debit Card</td>\n",
       "      <td>South</td>\n",
       "      <td>Alabama</td>\n",
       "      <td>Metrocity</td>\n",
       "    </tr>\n",
       "    <tr>\n",
       "      <th>99455</th>\n",
       "      <td>I702964</td>\n",
       "      <td>11/15/2016 12:44</td>\n",
       "      <td>C800631</td>\n",
       "      <td>Male</td>\n",
       "      <td>56</td>\n",
       "      <td>Technology</td>\n",
       "      <td>4</td>\n",
       "      <td>4200.00</td>\n",
       "      <td>3780.0000</td>\n",
       "      <td>Cash</td>\n",
       "      <td>South</td>\n",
       "      <td>Georgia</td>\n",
       "      <td>Istinye Park</td>\n",
       "    </tr>\n",
       "    <tr>\n",
       "      <th>99456</th>\n",
       "      <td>I232867</td>\n",
       "      <td>11/15/2016 12:44</td>\n",
       "      <td>C273973</td>\n",
       "      <td>Female</td>\n",
       "      <td>36</td>\n",
       "      <td>Souvenir</td>\n",
       "      <td>3</td>\n",
       "      <td>35.19</td>\n",
       "      <td>24.6330</td>\n",
       "      <td>Credit Card</td>\n",
       "      <td>South</td>\n",
       "      <td>Georgia</td>\n",
       "      <td>Mall of Istanbul</td>\n",
       "    </tr>\n",
       "  </tbody>\n",
       "</table>\n",
       "<p>99457 rows × 13 columns</p>\n",
       "</div>"
      ],
      "text/plain": [
       "      invoice_no      invoice_date customer_id  gender  age         category  \\\n",
       "0        I138884   10/30/2016 9:58     C241288  Female   28         Clothing   \n",
       "1        I317333   10/30/2016 9:58     C111565    Male   21            Shoes   \n",
       "2        I127801   10/30/2016 9:58     C266599    Male   20         Clothing   \n",
       "3        I173702   10/30/2016 9:58     C988172  Female   66            Shoes   \n",
       "4        I337046   10/30/2016 9:59     C189076  Female   53            Books   \n",
       "...          ...               ...         ...     ...  ...              ...   \n",
       "99452    I219422  11/15/2016 12:43     C441542  Female   45         Souvenir   \n",
       "99453    I325143  11/15/2016 12:43     C569580    Male   27  Food & Beverage   \n",
       "99454    I824010  11/15/2016 12:44     C103292    Male   63  Food & Beverage   \n",
       "99455    I702964  11/15/2016 12:44     C800631    Male   56       Technology   \n",
       "99456    I232867  11/15/2016 12:44     C273973  Female   36         Souvenir   \n",
       "\n",
       "       quantity  selling_price_per_unit  cost_price_per_unit payment_method  \\\n",
       "0             5                 1500.40            1425.3800    Credit Card   \n",
       "1             3                 1800.51            1620.4590     Debit Card   \n",
       "2             1                  300.08             295.0600           Cash   \n",
       "3             5                 3000.85            2900.7650    Credit Card   \n",
       "4             4                   60.60              45.4500           Cash   \n",
       "...         ...                     ...                  ...            ...   \n",
       "99452         5                   58.65              43.9875    Credit Card   \n",
       "99453         2                   10.46               7.3220           Cash   \n",
       "99454         2                   10.46               7.3220     Debit Card   \n",
       "99455         4                 4200.00            3780.0000           Cash   \n",
       "99456         3                   35.19              24.6330    Credit Card   \n",
       "\n",
       "      region       state     shopping_mall  \n",
       "0      South    Kentucky            Kanyon  \n",
       "1      South    Kentucky    Viaport Outlet  \n",
       "2       West  California         Metrocity  \n",
       "3      South     Florida      Metropol AVM  \n",
       "4      South     Florida            Kanyon  \n",
       "...      ...         ...               ...  \n",
       "99452  South     Alabama            Kanyon  \n",
       "99453  South     Alabama    Viaport Outlet  \n",
       "99454  South     Alabama         Metrocity  \n",
       "99455  South     Georgia      Istinye Park  \n",
       "99456  South     Georgia  Mall of Istanbul  \n",
       "\n",
       "[99457 rows x 13 columns]"
      ]
     },
     "execution_count": 3,
     "metadata": {},
     "output_type": "execute_result"
    }
   ],
   "source": [
    "df = pd.read_csv('Different_stores_dataset.csv')\n",
    "df"
   ]
  },
  {
   "cell_type": "code",
   "execution_count": 4,
   "id": "9aa93ed6-f76d-4141-9c28-eef6c8fa8d63",
   "metadata": {},
   "outputs": [
    {
     "name": "stdout",
     "output_type": "stream",
     "text": [
      "<class 'pandas.core.frame.DataFrame'>\n",
      "RangeIndex: 99457 entries, 0 to 99456\n",
      "Data columns (total 13 columns):\n",
      " #   Column                  Non-Null Count  Dtype  \n",
      "---  ------                  --------------  -----  \n",
      " 0   invoice_no              99457 non-null  object \n",
      " 1   invoice_date            99457 non-null  object \n",
      " 2   customer_id             99457 non-null  object \n",
      " 3   gender                  99457 non-null  object \n",
      " 4   age                     99457 non-null  int64  \n",
      " 5   category                99457 non-null  object \n",
      " 6   quantity                99457 non-null  int64  \n",
      " 7   selling_price_per_unit  99457 non-null  float64\n",
      " 8   cost_price_per_unit     99457 non-null  float64\n",
      " 9   payment_method          99457 non-null  object \n",
      " 10  region                  99457 non-null  object \n",
      " 11  state                   99457 non-null  object \n",
      " 12  shopping_mall           99457 non-null  object \n",
      "dtypes: float64(2), int64(2), object(9)\n",
      "memory usage: 9.9+ MB\n"
     ]
    },
    {
     "data": {
      "text/plain": [
       "(None,\n",
       "   invoice_no     invoice_date customer_id  gender  age  category  quantity  \\\n",
       " 0    I138884  10/30/2016 9:58     C241288  Female   28  Clothing         5   \n",
       " 1    I317333  10/30/2016 9:58     C111565    Male   21     Shoes         3   \n",
       " 2    I127801  10/30/2016 9:58     C266599    Male   20  Clothing         1   \n",
       " 3    I173702  10/30/2016 9:58     C988172  Female   66     Shoes         5   \n",
       " 4    I337046  10/30/2016 9:59     C189076  Female   53     Books         4   \n",
       " \n",
       "    selling_price_per_unit  cost_price_per_unit payment_method region  \\\n",
       " 0                 1500.40             1425.380    Credit Card  South   \n",
       " 1                 1800.51             1620.459     Debit Card  South   \n",
       " 2                  300.08              295.060           Cash   West   \n",
       " 3                 3000.85             2900.765    Credit Card  South   \n",
       " 4                   60.60               45.450           Cash  South   \n",
       " \n",
       "         state   shopping_mall  \n",
       " 0    Kentucky          Kanyon  \n",
       " 1    Kentucky  Viaport Outlet  \n",
       " 2  California       Metrocity  \n",
       " 3     Florida    Metropol AVM  \n",
       " 4     Florida          Kanyon  )"
      ]
     },
     "execution_count": 4,
     "metadata": {},
     "output_type": "execute_result"
    }
   ],
   "source": [
    "df.info(), df.head()"
   ]
  },
  {
   "cell_type": "markdown",
   "id": "b6cfdb88-d5c8-4d73-bcd2-70e06f131074",
   "metadata": {},
   "source": [
    "## 1. Check missing values"
   ]
  },
  {
   "cell_type": "code",
   "execution_count": 6,
   "id": "20006462-7321-48c9-9553-cf5619542662",
   "metadata": {},
   "outputs": [
    {
     "data": {
      "text/html": [
       "<div>\n",
       "<style scoped>\n",
       "    .dataframe tbody tr th:only-of-type {\n",
       "        vertical-align: middle;\n",
       "    }\n",
       "\n",
       "    .dataframe tbody tr th {\n",
       "        vertical-align: top;\n",
       "    }\n",
       "\n",
       "    .dataframe thead th {\n",
       "        text-align: right;\n",
       "    }\n",
       "</style>\n",
       "<table border=\"1\" class=\"dataframe\">\n",
       "  <thead>\n",
       "    <tr style=\"text-align: right;\">\n",
       "      <th></th>\n",
       "      <th>invoice_no</th>\n",
       "      <th>invoice_date</th>\n",
       "      <th>customer_id</th>\n",
       "      <th>gender</th>\n",
       "      <th>age</th>\n",
       "      <th>category</th>\n",
       "      <th>quantity</th>\n",
       "      <th>selling_price_per_unit</th>\n",
       "      <th>cost_price_per_unit</th>\n",
       "      <th>payment_method</th>\n",
       "      <th>region</th>\n",
       "      <th>state</th>\n",
       "      <th>shopping_mall</th>\n",
       "    </tr>\n",
       "  </thead>\n",
       "  <tbody>\n",
       "    <tr>\n",
       "      <th>0</th>\n",
       "      <td>False</td>\n",
       "      <td>False</td>\n",
       "      <td>False</td>\n",
       "      <td>False</td>\n",
       "      <td>False</td>\n",
       "      <td>False</td>\n",
       "      <td>False</td>\n",
       "      <td>False</td>\n",
       "      <td>False</td>\n",
       "      <td>False</td>\n",
       "      <td>False</td>\n",
       "      <td>False</td>\n",
       "      <td>False</td>\n",
       "    </tr>\n",
       "    <tr>\n",
       "      <th>1</th>\n",
       "      <td>False</td>\n",
       "      <td>False</td>\n",
       "      <td>False</td>\n",
       "      <td>False</td>\n",
       "      <td>False</td>\n",
       "      <td>False</td>\n",
       "      <td>False</td>\n",
       "      <td>False</td>\n",
       "      <td>False</td>\n",
       "      <td>False</td>\n",
       "      <td>False</td>\n",
       "      <td>False</td>\n",
       "      <td>False</td>\n",
       "    </tr>\n",
       "    <tr>\n",
       "      <th>2</th>\n",
       "      <td>False</td>\n",
       "      <td>False</td>\n",
       "      <td>False</td>\n",
       "      <td>False</td>\n",
       "      <td>False</td>\n",
       "      <td>False</td>\n",
       "      <td>False</td>\n",
       "      <td>False</td>\n",
       "      <td>False</td>\n",
       "      <td>False</td>\n",
       "      <td>False</td>\n",
       "      <td>False</td>\n",
       "      <td>False</td>\n",
       "    </tr>\n",
       "    <tr>\n",
       "      <th>3</th>\n",
       "      <td>False</td>\n",
       "      <td>False</td>\n",
       "      <td>False</td>\n",
       "      <td>False</td>\n",
       "      <td>False</td>\n",
       "      <td>False</td>\n",
       "      <td>False</td>\n",
       "      <td>False</td>\n",
       "      <td>False</td>\n",
       "      <td>False</td>\n",
       "      <td>False</td>\n",
       "      <td>False</td>\n",
       "      <td>False</td>\n",
       "    </tr>\n",
       "    <tr>\n",
       "      <th>4</th>\n",
       "      <td>False</td>\n",
       "      <td>False</td>\n",
       "      <td>False</td>\n",
       "      <td>False</td>\n",
       "      <td>False</td>\n",
       "      <td>False</td>\n",
       "      <td>False</td>\n",
       "      <td>False</td>\n",
       "      <td>False</td>\n",
       "      <td>False</td>\n",
       "      <td>False</td>\n",
       "      <td>False</td>\n",
       "      <td>False</td>\n",
       "    </tr>\n",
       "    <tr>\n",
       "      <th>...</th>\n",
       "      <td>...</td>\n",
       "      <td>...</td>\n",
       "      <td>...</td>\n",
       "      <td>...</td>\n",
       "      <td>...</td>\n",
       "      <td>...</td>\n",
       "      <td>...</td>\n",
       "      <td>...</td>\n",
       "      <td>...</td>\n",
       "      <td>...</td>\n",
       "      <td>...</td>\n",
       "      <td>...</td>\n",
       "      <td>...</td>\n",
       "    </tr>\n",
       "    <tr>\n",
       "      <th>99452</th>\n",
       "      <td>False</td>\n",
       "      <td>False</td>\n",
       "      <td>False</td>\n",
       "      <td>False</td>\n",
       "      <td>False</td>\n",
       "      <td>False</td>\n",
       "      <td>False</td>\n",
       "      <td>False</td>\n",
       "      <td>False</td>\n",
       "      <td>False</td>\n",
       "      <td>False</td>\n",
       "      <td>False</td>\n",
       "      <td>False</td>\n",
       "    </tr>\n",
       "    <tr>\n",
       "      <th>99453</th>\n",
       "      <td>False</td>\n",
       "      <td>False</td>\n",
       "      <td>False</td>\n",
       "      <td>False</td>\n",
       "      <td>False</td>\n",
       "      <td>False</td>\n",
       "      <td>False</td>\n",
       "      <td>False</td>\n",
       "      <td>False</td>\n",
       "      <td>False</td>\n",
       "      <td>False</td>\n",
       "      <td>False</td>\n",
       "      <td>False</td>\n",
       "    </tr>\n",
       "    <tr>\n",
       "      <th>99454</th>\n",
       "      <td>False</td>\n",
       "      <td>False</td>\n",
       "      <td>False</td>\n",
       "      <td>False</td>\n",
       "      <td>False</td>\n",
       "      <td>False</td>\n",
       "      <td>False</td>\n",
       "      <td>False</td>\n",
       "      <td>False</td>\n",
       "      <td>False</td>\n",
       "      <td>False</td>\n",
       "      <td>False</td>\n",
       "      <td>False</td>\n",
       "    </tr>\n",
       "    <tr>\n",
       "      <th>99455</th>\n",
       "      <td>False</td>\n",
       "      <td>False</td>\n",
       "      <td>False</td>\n",
       "      <td>False</td>\n",
       "      <td>False</td>\n",
       "      <td>False</td>\n",
       "      <td>False</td>\n",
       "      <td>False</td>\n",
       "      <td>False</td>\n",
       "      <td>False</td>\n",
       "      <td>False</td>\n",
       "      <td>False</td>\n",
       "      <td>False</td>\n",
       "    </tr>\n",
       "    <tr>\n",
       "      <th>99456</th>\n",
       "      <td>False</td>\n",
       "      <td>False</td>\n",
       "      <td>False</td>\n",
       "      <td>False</td>\n",
       "      <td>False</td>\n",
       "      <td>False</td>\n",
       "      <td>False</td>\n",
       "      <td>False</td>\n",
       "      <td>False</td>\n",
       "      <td>False</td>\n",
       "      <td>False</td>\n",
       "      <td>False</td>\n",
       "      <td>False</td>\n",
       "    </tr>\n",
       "  </tbody>\n",
       "</table>\n",
       "<p>99457 rows × 13 columns</p>\n",
       "</div>"
      ],
      "text/plain": [
       "       invoice_no  invoice_date  customer_id  gender    age  category  \\\n",
       "0           False         False        False   False  False     False   \n",
       "1           False         False        False   False  False     False   \n",
       "2           False         False        False   False  False     False   \n",
       "3           False         False        False   False  False     False   \n",
       "4           False         False        False   False  False     False   \n",
       "...           ...           ...          ...     ...    ...       ...   \n",
       "99452       False         False        False   False  False     False   \n",
       "99453       False         False        False   False  False     False   \n",
       "99454       False         False        False   False  False     False   \n",
       "99455       False         False        False   False  False     False   \n",
       "99456       False         False        False   False  False     False   \n",
       "\n",
       "       quantity  selling_price_per_unit  cost_price_per_unit  payment_method  \\\n",
       "0         False                   False                False           False   \n",
       "1         False                   False                False           False   \n",
       "2         False                   False                False           False   \n",
       "3         False                   False                False           False   \n",
       "4         False                   False                False           False   \n",
       "...         ...                     ...                  ...             ...   \n",
       "99452     False                   False                False           False   \n",
       "99453     False                   False                False           False   \n",
       "99454     False                   False                False           False   \n",
       "99455     False                   False                False           False   \n",
       "99456     False                   False                False           False   \n",
       "\n",
       "       region  state  shopping_mall  \n",
       "0       False  False          False  \n",
       "1       False  False          False  \n",
       "2       False  False          False  \n",
       "3       False  False          False  \n",
       "4       False  False          False  \n",
       "...       ...    ...            ...  \n",
       "99452   False  False          False  \n",
       "99453   False  False          False  \n",
       "99454   False  False          False  \n",
       "99455   False  False          False  \n",
       "99456   False  False          False  \n",
       "\n",
       "[99457 rows x 13 columns]"
      ]
     },
     "execution_count": 6,
     "metadata": {},
     "output_type": "execute_result"
    }
   ],
   "source": [
    "df.isnull()"
   ]
  },
  {
   "cell_type": "markdown",
   "id": "4be04a1e-5dbc-465c-b0e0-c3592c6a0d83",
   "metadata": {},
   "source": [
    "## and duplicate records"
   ]
  },
  {
   "cell_type": "code",
   "execution_count": 8,
   "id": "ae96372d-d9d8-48b9-9802-48c1ebcb5502",
   "metadata": {},
   "outputs": [
    {
     "data": {
      "text/plain": [
       "0"
      ]
     },
     "execution_count": 8,
     "metadata": {},
     "output_type": "execute_result"
    }
   ],
   "source": [
    "df.duplicated().sum()"
   ]
  },
  {
   "cell_type": "markdown",
   "id": "94e3a52a-6c91-40bf-a9e9-df8a2fdf6bdd",
   "metadata": {},
   "source": [
    "## 2. Add column name 'Total Sales'"
   ]
  },
  {
   "cell_type": "code",
   "execution_count": 10,
   "id": "a5889047-facd-47aa-8944-580574d2387d",
   "metadata": {},
   "outputs": [],
   "source": [
    "df[\"Total Sales\"] = df[\"quantity\"] * df[\"selling_price_per_unit\"]"
   ]
  },
  {
   "cell_type": "markdown",
   "id": "6e8c897d-5bf4-4c85-abd4-bc8a27151f49",
   "metadata": {},
   "source": [
    "### 3. How many customers have age more than 60?"
   ]
  },
  {
   "cell_type": "code",
   "execution_count": 11,
   "id": "64fb53c8-c13a-4396-a96a-cd6bd815f212",
   "metadata": {},
   "outputs": [
    {
     "data": {
      "text/plain": [
       "17169"
      ]
     },
     "execution_count": 11,
     "metadata": {},
     "output_type": "execute_result"
    }
   ],
   "source": [
    "df[df[\"age\"] > 60][\"customer_id\"].nunique()"
   ]
  },
  {
   "cell_type": "markdown",
   "id": "1a87808c-61f3-49d7-8d92-fb98f06bcf11",
   "metadata": {},
   "source": [
    "### 4. How many unique customer_id entries are there? Do any customers make multiple purchases?"
   ]
  },
  {
   "cell_type": "code",
   "execution_count": 13,
   "id": "a199475c-05a8-4ad8-81ae-9dc996bd7a9f",
   "metadata": {},
   "outputs": [
    {
     "data": {
      "text/plain": [
       "99457"
      ]
     },
     "execution_count": 13,
     "metadata": {},
     "output_type": "execute_result"
    }
   ],
   "source": [
    "df[\"customer_id\"].nunique()"
   ]
  },
  {
   "cell_type": "code",
   "execution_count": 14,
   "id": "cdd8a13b-3acd-4341-b821-7e83e90d139a",
   "metadata": {},
   "outputs": [
    {
     "data": {
      "text/plain": [
       "0"
      ]
     },
     "execution_count": 14,
     "metadata": {},
     "output_type": "execute_result"
    }
   ],
   "source": [
    "df[\"customer_id\"].value_counts()[df[\"customer_id\"].value_counts() > 1].count()"
   ]
  },
  {
   "cell_type": "markdown",
   "id": "0d2f732a-d6c1-4c08-a1f5-7e60e15787e0",
   "metadata": {},
   "source": [
    "### 5. Are there more male or female customers, Show in Pie Chart?"
   ]
  },
  {
   "cell_type": "code",
   "execution_count": 15,
   "id": "e7ecb540-1840-4ba3-a800-95be44d0a344",
   "metadata": {},
   "outputs": [],
   "source": [
    "import matplotlib.pyplot as plt"
   ]
  },
  {
   "cell_type": "code",
   "execution_count": 20,
   "id": "0b1622ef-d0be-4485-a4dc-b825f2690a74",
   "metadata": {},
   "outputs": [
    {
     "data": {
      "image/png": "[encoded data removed]",
      "text/plain": [
       "<Figure size 600x600 with 1 Axes>"
      ]
     },
     "metadata": {},
     "output_type": "display_data"
    }
   ],
   "source": [
    "gender_counts = df[\"gender\"].value_counts()\n",
    "\n",
    "# Pie chart\n",
    "plt.figure(figsize=(6, 6))\n",
    "plt.pie(gender_counts, labels=gender_counts.index, autopct=\"%1.1f%%\", colors=[\"lightblue\", \"pink\"], startangle=140)\n",
    "plt.title(\"Gender Distribution of Customers\")\n",
    "plt.show()"
   ]
  },
  {
   "cell_type": "markdown",
   "id": "4c37ab71-d304-4988-b93f-4c87e825c32a",
   "metadata": {},
   "source": [
    "### 6. Which category is least popular among customers?"
   ]
  },
  {
   "cell_type": "code",
   "execution_count": 21,
   "id": "8b0de5a6-588e-4ea6-a49a-accf2844f7b6",
   "metadata": {},
   "outputs": [
    {
     "data": {
      "text/plain": [
       "'Souvenir'"
      ]
     },
     "execution_count": 21,
     "metadata": {},
     "output_type": "execute_result"
    }
   ],
   "source": [
    "df.groupby(\"category\")[\"quantity\"].sum().idxmin()"
   ]
  },
  {
   "cell_type": "markdown",
   "id": "84cce144-b9f1-4b6d-935d-0387e5bcd3c4",
   "metadata": {},
   "source": [
    "### 7. Which category has the highest sales volume?"
   ]
  },
  {
   "cell_type": "code",
   "execution_count": 22,
   "id": "de563284-784f-4fc2-8fe0-c932fd6b4730",
   "metadata": {},
   "outputs": [
    {
     "data": {
      "text/plain": [
       "'Clothing'"
      ]
     },
     "execution_count": 22,
     "metadata": {},
     "output_type": "execute_result"
    }
   ],
   "source": [
    "df.groupby(\"category\")[\"Total Sales\"].sum().idxmax()"
   ]
  },
  {
   "cell_type": "markdown",
   "id": "abd2982b-7eca-4350-8da2-cc2d877bf413",
   "metadata": {},
   "source": [
    "### 8. Add column name 'Total Profit'"
   ]
  },
  {
   "cell_type": "code",
   "execution_count": 23,
   "id": "c7568f0c-ccfb-4e52-b65e-8bbbfca2be0e",
   "metadata": {},
   "outputs": [],
   "source": [
    "df[\"Total Profit\"] = df[\"Total Sales\"] - (df[\"quantity\"] * df[\"cost_price_per_unit\"])"
   ]
  },
  {
   "cell_type": "markdown",
   "id": "1687df47-f1ac-437e-b11f-a0f40a217e5c",
   "metadata": {},
   "source": [
    "### 9. Display the top 10 invoices with the highest quantities sold?\n",
    "Total Profit=Total Sales−Total Costs"
   ]
  },
  {
   "cell_type": "code",
   "execution_count": 24,
   "id": "fea5beb6-c9b0-4652-a3c6-fac71de14800",
   "metadata": {},
   "outputs": [
    {
     "data": {
      "text/plain": [
       "invoice_no\n",
       "I283443    15\n",
       "I282789    12\n",
       "I293215    12\n",
       "I115679    11\n",
       "I160221    10\n",
       "I207205    10\n",
       "I353272    10\n",
       "I286193     9\n",
       "I139207     8\n",
       "I215578     8\n",
       "Name: quantity, dtype: int64"
      ]
     },
     "execution_count": 24,
     "metadata": {},
     "output_type": "execute_result"
    }
   ],
   "source": [
    "df.groupby(\"invoice_no\")[\"quantity\"].sum().nlargest(10)"
   ]
  },
  {
   "cell_type": "markdown",
   "id": "b92c3477-d447-49eb-a401-cc12f3c7e0b8",
   "metadata": {},
   "source": [
    "### 10. Which payment method is most commonly used?"
   ]
  },
  {
   "cell_type": "code",
   "execution_count": 25,
   "id": "a1265dbc-4400-4455-912a-5801f6779e1d",
   "metadata": {},
   "outputs": [
    {
     "data": {
      "text/plain": [
       "'Cash'"
      ]
     },
     "execution_count": 25,
     "metadata": {},
     "output_type": "execute_result"
    }
   ],
   "source": [
    "df[\"payment_method\"].value_counts().idxmax()"
   ]
  },
  {
   "cell_type": "markdown",
   "id": "ac089eba-f531-48e8-a18f-2f095da9905d",
   "metadata": {},
   "source": [
    "### 11. Total Sales with respect to region?"
   ]
  },
  {
   "cell_type": "code",
   "execution_count": 26,
   "id": "217a4509-9763-4f6e-8012-2df992c21c61",
   "metadata": {},
   "outputs": [
    {
     "data": {
      "text/plain": [
       "region\n",
       "Central    58803471.74\n",
       "East       72280660.57\n",
       "South      40655491.64\n",
       "West       79825624.03\n",
       "Name: Total Sales, dtype: float64"
      ]
     },
     "execution_count": 26,
     "metadata": {},
     "output_type": "execute_result"
    }
   ],
   "source": [
    "df.groupby(\"region\")[\"Total Sales\"].sum()"
   ]
  },
  {
   "cell_type": "markdown",
   "id": "178da8ba-eb66-449b-be2a-f1fe705e2ab9",
   "metadata": {},
   "source": [
    "### 12. Sort Malls with average sales higher to lower?"
   ]
  },
  {
   "cell_type": "code",
   "execution_count": 28,
   "id": "c7a9136c-e6f1-49cf-8458-824c916de262",
   "metadata": {},
   "outputs": [
    {
     "data": {
      "text/plain": [
       "shopping_mall\n",
       "Zorlu Center        2573.248351\n",
       "Kanyon              2550.618396\n",
       "Mall of Istanbul    2543.276766\n",
       "Viaport Outlet      2523.835118\n",
       "Istinye Park        2523.186677\n",
       "Metropol AVM        2497.777108\n",
       "Metrocity           2485.030133\n",
       "Name: Total Sales, dtype: float64"
      ]
     },
     "execution_count": 28,
     "metadata": {},
     "output_type": "execute_result"
    }
   ],
   "source": [
    "df.groupby(\"shopping_mall\")[\"Total Sales\"].mean().sort_values(ascending=False).head(10)"
   ]
  },
  {
   "cell_type": "markdown",
   "id": "adf6c3c4-dc65-4ff7-aa61-ef9d84d53610",
   "metadata": {},
   "source": [
    "### 13. Sort categories with the highest profit margins display in bar plot?\n",
    "Profit Margin=(Total Sales/Total Profit)×100"
   ]
  },
  {
   "cell_type": "code",
   "execution_count": 29,
   "id": "1ec31c41-00cf-470b-a721-28726d134780",
   "metadata": {},
   "outputs": [
    {
     "data": {
      "image/png": "[encoded data removed]",
      "text/plain": [
       "<Figure size 1000x500 with 1 Axes>"
      ]
     },
     "metadata": {},
     "output_type": "display_data"
    }
   ],
   "source": [
    "df[\"Profit Margin\"] = (df[\"Total Profit\"] / df[\"Total Sales\"]) * 100\n",
    "\n",
    "profit_margin_by_category = df.groupby(\"category\")[\"Profit Margin\"].mean().sort_values(ascending=False)\n",
    "\n",
    "# Bar chart\n",
    "plt.figure(figsize=(10, 5))\n",
    "profit_margin_by_category.plot(kind=\"bar\", color=\"green\", edgecolor=\"black\")\n",
    "plt.xlabel(\"Category\")\n",
    "plt.ylabel(\"Profit Margin (%)\")\n",
    "plt.title(\"Profit Margins by Category\")\n",
    "plt.xticks(rotation=45)\n",
    "plt.show()"
   ]
  },
  {
   "cell_type": "markdown",
   "id": "23eb6082-ad77-4c22-887e-9f4d7161132c",
   "metadata": {},
   "source": [
    "### 14.  What is the total number of transactions per region for each payment method?"
   ]
  },
  {
   "cell_type": "code",
   "execution_count": 30,
   "id": "ea123e68-b2aa-4b11-b979-3d454d26ccaa",
   "metadata": {},
   "outputs": [
    {
     "data": {
      "text/html": [
       "<div>\n",
       "<style scoped>\n",
       "    .dataframe tbody tr th:only-of-type {\n",
       "        vertical-align: middle;\n",
       "    }\n",
       "\n",
       "    .dataframe tbody tr th {\n",
       "        vertical-align: top;\n",
       "    }\n",
       "\n",
       "    .dataframe thead th {\n",
       "        text-align: right;\n",
       "    }\n",
       "</style>\n",
       "<table border=\"1\" class=\"dataframe\">\n",
       "  <thead>\n",
       "    <tr style=\"text-align: right;\">\n",
       "      <th>payment_method</th>\n",
       "      <th>Cash</th>\n",
       "      <th>Credit Card</th>\n",
       "      <th>Debit Card</th>\n",
       "    </tr>\n",
       "    <tr>\n",
       "      <th>region</th>\n",
       "      <th></th>\n",
       "      <th></th>\n",
       "      <th></th>\n",
       "    </tr>\n",
       "  </thead>\n",
       "  <tbody>\n",
       "    <tr>\n",
       "      <th>Central</th>\n",
       "      <td>10319</td>\n",
       "      <td>8140</td>\n",
       "      <td>4640</td>\n",
       "    </tr>\n",
       "    <tr>\n",
       "      <th>East</th>\n",
       "      <td>12738</td>\n",
       "      <td>9817</td>\n",
       "      <td>5751</td>\n",
       "    </tr>\n",
       "    <tr>\n",
       "      <th>South</th>\n",
       "      <td>7227</td>\n",
       "      <td>5698</td>\n",
       "      <td>3284</td>\n",
       "    </tr>\n",
       "    <tr>\n",
       "      <th>West</th>\n",
       "      <td>14163</td>\n",
       "      <td>11276</td>\n",
       "      <td>6404</td>\n",
       "    </tr>\n",
       "  </tbody>\n",
       "</table>\n",
       "</div>"
      ],
      "text/plain": [
       "payment_method   Cash  Credit Card  Debit Card\n",
       "region                                        \n",
       "Central         10319         8140        4640\n",
       "East            12738         9817        5751\n",
       "South            7227         5698        3284\n",
       "West            14163        11276        6404"
      ]
     },
     "execution_count": 30,
     "metadata": {},
     "output_type": "execute_result"
    }
   ],
   "source": [
    "df.groupby([\"region\", \"payment_method\"]).size().unstack()"
   ]
  },
  {
   "cell_type": "markdown",
   "id": "af16c1f7-63ae-4245-8a03-234518b69b4a",
   "metadata": {},
   "source": [
    "### 15. How do sales in different categories compare between males and females?"
   ]
  },
  {
   "cell_type": "code",
   "execution_count": 31,
   "id": "b56c187c-efa4-44cc-a583-a6584a206cd5",
   "metadata": {},
   "outputs": [],
   "source": [
    "import seaborn as sns"
   ]
  },
  {
   "cell_type": "code",
   "execution_count": 34,
   "id": "2c4da8dd-5c01-47ea-89e7-a5219fa8db17",
   "metadata": {},
   "outputs": [
    {
     "data": {
      "text/plain": [
       "<Figure size 1200x600 with 0 Axes>"
      ]
     },
     "metadata": {},
     "output_type": "display_data"
    },
    {
     "data": {
      "image/png": "[encoded data removed]",
      "text/plain": [
       "<Figure size 1200x600 with 1 Axes>"
      ]
     },
     "metadata": {},
     "output_type": "display_data"
    }
   ],
   "source": [
    "category_sales_by_gender = df.groupby([\"category\", \"gender\"])[\"Total Sales\"].sum().unstack()\n",
    "\n",
    "# Grouped Bar chart\n",
    "plt.figure(figsize=(12, 6))\n",
    "category_sales_by_gender.plot(kind=\"bar\", figsize=(12, 6), color=[\"blue\", \"pink\"], edgecolor=\"black\")\n",
    "plt.xlabel(\"Category\")\n",
    "plt.ylabel(\"Total Sales\")\n",
    "plt.title(\"Sales Comparison by Category and Gender\")\n",
    "plt.xticks(rotation=45)\n",
    "plt.legend(title=\"Gender\")\n",
    "plt.show()"
   ]
  },
  {
   "cell_type": "code",
   "execution_count": null,
   "id": "f9dd8626-4e65-4df5-b0db-188f9b6abd67",
   "metadata": {},
   "outputs": [],
   "source": []
  }
 ],
 "metadata": {
  "kernelspec": {
   "display_name": "Python 3 (ipykernel)",
   "language": "python",
   "name": "python3"
  },
  "language_info": {
   "codemirror_mode": {
    "name": "ipython",
    "version": 3
   },
   "file_extension": ".py",
   "mimetype": "text/x-python",
   "name": "python",
   "nbconvert_exporter": "python",
   "pygments_lexer": "ipython3",
   "version": "3.12.7"
  }
 },
 "nbformat": 4,
 "nbformat_minor": 5
}
