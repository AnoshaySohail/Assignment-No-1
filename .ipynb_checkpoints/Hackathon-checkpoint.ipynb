{
 "cells": [
  {
   "cell_type": "code",
   "execution_count": 12,
   "id": "2c42c2b4-b4a4-4ebe-b048-657c0b3f4ec5",
   "metadata": {},
   "outputs": [
    {
     "name": "stdin",
     "output_type": "stream",
     "text": [
      "Q1) What is the tallest mountain in the world? \n",
      "  a) Mount Everest \n",
      "  b) K2 \n",
      "  c) Kilimanjaro \n",
      "  d) Mount Elbrus \n",
      " Choose the Correct Answer:  a\n"
     ]
    },
    {
     "name": "stdout",
     "output_type": "stream",
     "text": [
      "\t You're Answer is Correct. \n",
      " \n"
     ]
    },
    {
     "name": "stdin",
     "output_type": "stream",
     "text": [
      "Q2) How many colours are there in the Olympic rings? \n",
      "  a) 6 \n",
      "  b) 5 \n",
      "  c) 4 \n",
      "  d) 3 \n",
      "  Choose the Correct Answer:  a\n"
     ]
    },
    {
     "name": "stdout",
     "output_type": "stream",
     "text": [
      "\t You're Answer is Wrong. \n",
      " \n"
     ]
    },
    {
     "name": "stdin",
     "output_type": "stream",
     "text": [
      "Q3) What does Au stand for in the periodic table? \n",
      "  a) Gold  \n",
      "  b) Silver  \n",
      "  c) Bronze  \n",
      "  d) Steel  \n",
      "  Choose the Correct Answer:  a\n"
     ]
    },
    {
     "name": "stdout",
     "output_type": "stream",
     "text": [
      "\t You're Answer is Correct. \n",
      " \n"
     ]
    },
    {
     "name": "stdin",
     "output_type": "stream",
     "text": [
      "Q4) What is the smallest country in the world by land area? \n",
      "  a) Vatican City \n",
      "  b) Monaco \n",
      "  c) Nauru \n",
      "  d) Tuvalu \n",
      "  Choose the Correct Answer:  a\n"
     ]
    },
    {
     "name": "stdout",
     "output_type": "stream",
     "text": [
      "\t You're Answer is Correct. \n",
      " \n"
     ]
    },
    {
     "name": "stdin",
     "output_type": "stream",
     "text": [
      "Q5) In which year World War I begin? \n",
      "  a) 1917  \n",
      "  b) 1912  \n",
      "  c) 1915  \n",
      "  d) 1914  \n",
      "  Choose the Correct Answer:  a\n"
     ]
    },
    {
     "name": "stdout",
     "output_type": "stream",
     "text": [
      "\t You're Answer is Wrong. \n",
      " \n"
     ]
    },
    {
     "name": "stdin",
     "output_type": "stream",
     "text": [
      "Q6) What is the largest planet in our solar system? \n",
      "  a) Jupiter \n",
      "  b) Mars \n",
      "  c) Venus \n",
      "  d) Earth \n",
      "  Choose the Correct Answer:  a\n"
     ]
    },
    {
     "name": "stdout",
     "output_type": "stream",
     "text": [
      "\t You're Answer is Correct. \n",
      " \n"
     ]
    },
    {
     "name": "stdin",
     "output_type": "stream",
     "text": [
      "Q7) In which country Adolph Hitler was born? \n",
      "  a) America  \n",
      "  b) Austrailia  \n",
      "  c) Austria  \n",
      "  d) Canada  \n",
      "  Choose the Correct Answer:  a\n"
     ]
    },
    {
     "name": "stdout",
     "output_type": "stream",
     "text": [
      "\t You're Answer is Wrong. \n",
      " \n"
     ]
    },
    {
     "name": "stdin",
     "output_type": "stream",
     "text": [
      "Q8) What gets wetter and wetter the more it dries? \n",
      "  a) A towel \n",
      "  b) A hair dryer \n",
      "  c) A brush \n",
      "  d) A plant \n",
      "Choose the Correct Answer:  a\n"
     ]
    },
    {
     "name": "stdout",
     "output_type": "stream",
     "text": [
      "\t You're Answer is Correct. \n",
      " \n"
     ]
    },
    {
     "name": "stdin",
     "output_type": "stream",
     "text": [
      "Q9) What is the capital city of Japan? \n",
      "  a) Kyoto \n",
      "  b) Tokyo \n",
      "  c) Osaka \n",
      "  d) Hiroshima \n",
      "  Choose the Correct Answer:  a\n"
     ]
    },
    {
     "name": "stdout",
     "output_type": "stream",
     "text": [
      "\t You're Answer is Wrong. \n",
      " \n"
     ]
    },
    {
     "name": "stdin",
     "output_type": "stream",
     "text": [
      "Q10) What is the longest river in the world? \n",
      "  a) The Nile \n",
      "  b) Amazon River \n",
      "  c) Yangtze River \n",
      "  d) Mississippi River \n",
      "  Choose the Correct Answer:  a\n"
     ]
    },
    {
     "name": "stdout",
     "output_type": "stream",
     "text": [
      "\t You're Answer is Correct. \n",
      " \n",
      "Your final score is:  6 out of  10\n"
     ]
    }
   ],
   "source": [
    " quiz = [ \n",
    "\"Q1) What is the tallest mountain in the world? \\n  a) Mount Everest \\n  b) K2 \\n  c) Kilimanjaro \\n  d) Mount Elbrus \\n \", \n",
    "\n",
    "\"Q2) How many colours are there in the Olympic rings? \\n  a) 6 \\n  b) 5 \\n  c) 4 \\n  d) 3 \\n  \", \n",
    "\n",
    "\"Q3) What does Au stand for in the periodic table? \\n  a) Gold  \\n  b) Silver  \\n  c) Bronze  \\n  d) Steel  \\n  \", \n",
    "\n",
    "\"Q4) What is the smallest country in the world by land area? \\n  a) Vatican City \\n  b) Monaco \\n  c) Nauru \\n  d) Tuvalu \\n  \", \n",
    "\n",
    "\"Q5) In which year World War I begin? \\n  a) 1917  \\n  b) 1912  \\n  c) 1915  \\n  d) 1914  \\n  \", \n",
    "\n",
    "\"Q6) What is the largest planet in our solar system? \\n  a) Jupiter \\n  b) Mars \\n  c) Venus \\n  d) Earth \\n  \", \n",
    "\n",
    "\"Q7) In which country Adolph Hitler was born? \\n  a) America  \\n  b) Austrailia  \\n  c) Austria  \\n  d) Canada  \\n  \", \n",
    "\n",
    "\"Q8) What gets wetter and wetter the more it dries? \\n  a) A towel \\n  b) A hair dryer \\n  c) A brush \\n  d) A plant \\n\",\n",
    "\n",
    "\"Q9) What is the capital city of Japan? \\n  a) Kyoto \\n  b) Tokyo \\n  c) Osaka \\n  d) Hiroshima \\n  \", \n",
    "\n",
    "\"Q10) What is the longest river in the world? \\n  a) The Nile \\n  b) Amazon River \\n  c) Yangtze River \\n  d) Mississippi River \\n  \"       ]\n",
    " \n",
    "ans = [\"a\",  \"b\",  \"a\",  \"a\",  \"d\",  \"a\",  \"c\",  \"a\",  \"b\",  \"a\"]\n",
    "i = 0\n",
    "score = 0\n",
    "\n",
    "for question in quiz:\n",
    "    answer = input(question + \"Choose the Correct Answer: \")\n",
    "    if answer.lower() == ans[i]:\n",
    "        i = i+1\n",
    "        print(\"\\t You're Answer is Correct. \\n \")\n",
    "        score += 1\n",
    "    else:\n",
    "        print(\"\\t You're Answer is Wrong. \\n \")\n",
    "        i += 1\n",
    "\n",
    "print(\"Your final score is: \", (score), \"out of \", (len(quiz)))"
   ]
  },
  {
   "cell_type": "markdown",
   "id": "d4b82e32-4d6a-4765-9a60-49e8180e1879",
   "metadata": {},
   "source": [
    "###    \"----------------------------------------   Python Hackathon Completed  ----------------------------------------\""
   ]
  },
  {
   "cell_type": "code",
   "execution_count": null,
   "id": "c6666731-6307-4936-a510-3533093466b0",
   "metadata": {},
   "outputs": [],
   "source": []
  }
 ],
 "metadata": {
  "kernelspec": {
   "display_name": "Python 3 (ipykernel)",
   "language": "python",
   "name": "python3"
  },
  "language_info": {
   "codemirror_mode": {
    "name": "ipython",
    "version": 3
   },
   "file_extension": ".py",
   "mimetype": "text/x-python",
   "name": "python",
   "nbconvert_exporter": "python",
   "pygments_lexer": "ipython3",
   "version": "3.12.7"
  }
 },
 "nbformat": 4,
 "nbformat_minor": 5
}
