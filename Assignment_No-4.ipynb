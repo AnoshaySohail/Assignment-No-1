{
 "cells": [
  {
   "cell_type": "markdown",
   "id": "8b4e85d7-4cb2-402a-a560-4e0ad98e4b9a",
   "metadata": {},
   "source": [
    "# Q1. \n",
    "my_tuple = ( (1, 2, 3), [4, 5, 6], (&#39;apple&#39;, &#39;banana&#39;, &#39;cherry&#39;), [7, 8, 9] )  \n",
    "• Print all elements from my_tuple on a new line (using for loop)  \n",
    "• Create a new tuple by concatenating the first and last elements of my_tuple"
   ]
  },
  {
   "cell_type": "code",
   "execution_count": 1,
   "id": "3fb6525a-c74c-469c-ac6f-1776b25240e3",
   "metadata": {},
   "outputs": [
    {
     "name": "stdout",
     "output_type": "stream",
     "text": [
      "(1, 2, 3)\n",
      "[4, 5, 6]\n",
      "('apple', 'banana', 'cherry')\n",
      "[7, 8, 9]\n"
     ]
    }
   ],
   "source": [
    "my_tuple = ( (1, 2, 3), [4, 5, 6], ('apple', 'banana', 'cherry'), [7, 8, 9] )  \n",
    "for elements in my_tuple:\n",
    "    print(elements)"
   ]
  },
  {
   "cell_type": "code",
   "execution_count": 2,
   "id": "18150b7c-292a-4fde-bd67-a5b767bc8081",
   "metadata": {},
   "outputs": [
    {
     "name": "stdout",
     "output_type": "stream",
     "text": [
      "(1, 2, 3, 7, 8, 9)\n"
     ]
    }
   ],
   "source": [
    "new_tuple = my_tuple[0] + tuple(my_tuple[-1])\n",
    "print(new_tuple)"
   ]
  },
  {
   "cell_type": "markdown",
   "id": "5738f493-ca7f-4e3d-a643-6188d1fb58da",
   "metadata": {},
   "source": [
    "### Error ⬇"
   ]
  },
  {
   "cell_type": "code",
   "execution_count": 3,
   "id": "b73c6f1a-261e-4fa3-9d51-2f550d3046af",
   "metadata": {},
   "outputs": [
    {
     "ename": "TypeError",
     "evalue": "can only concatenate tuple (not \"list\") to tuple",
     "output_type": "error",
     "traceback": [
      "\u001b[1;31m---------------------------------------------------------------------------\u001b[0m",
      "\u001b[1;31mTypeError\u001b[0m                                 Traceback (most recent call last)",
      "Cell \u001b[1;32mIn[3], line 2\u001b[0m\n\u001b[0;32m      1\u001b[0m \u001b[38;5;66;03m#TypeError: can only concatenate tuple (not \"list\") to tuple\u001b[39;00m\n\u001b[1;32m----> 2\u001b[0m new_tuple \u001b[38;5;241m=\u001b[39m my_tuple[\u001b[38;5;241m0\u001b[39m] \u001b[38;5;241m+\u001b[39m my_tuple[\u001b[38;5;241m-\u001b[39m\u001b[38;5;241m1\u001b[39m]\n\u001b[0;32m      3\u001b[0m \u001b[38;5;28mprint\u001b[39m(new_tuple)\n",
      "\u001b[1;31mTypeError\u001b[0m: can only concatenate tuple (not \"list\") to tuple"
     ]
    }
   ],
   "source": [
    "#TypeError: can only concatenate tuple (not \"list\") to tuple\n",
    "new_tuple = my_tuple[0] + my_tuple[-1]\n",
    "print(new_tuple)"
   ]
  },
  {
   "cell_type": "code",
   "execution_count": 4,
   "id": "8f83f07e-fee0-459c-8d67-268ec67231bc",
   "metadata": {},
   "outputs": [
    {
     "name": "stdout",
     "output_type": "stream",
     "text": [
      "(1, 2, 3) [7, 8, 9]\n"
     ]
    }
   ],
   "source": [
    "print(my_tuple[0], my_tuple[-1])\n",
    "#Not Concatenation"
   ]
  },
  {
   "cell_type": "markdown",
   "id": "d2e288b8-917f-4eab-8f5f-d63725204f51",
   "metadata": {},
   "source": [
    "________________________________________________________________________________________________________________________________________________________"
   ]
  },
  {
   "cell_type": "markdown",
   "id": "650d0c3d-40f1-43ae-ac3e-9194b53b5025",
   "metadata": {},
   "source": [
    "# Q2.  \n",
    "inventory = { &quot;The Great Gatsby&quot;: {&quot;price&quot;: 10.99, &quot;quantity&quot;: 5}, &quot;Rich dad poor dad&quot;: {&quot;price&quot;:\n",
    "8.99, &quot;quantity&quot;: 8}, &quot;Harry Potter&quot;: {&quot;price&quot;: 12.50, &quot;quantity&quot;: 2}, }  \n",
    "• Add a new book in inventory using method and get all book titles using method  \n",
    "• Remove a book if it&#39;s out of stock\n"
   ]
  },
  {
   "cell_type": "code",
   "execution_count": 5,
   "id": "bb833546-28ee-4573-8912-70423983009b",
   "metadata": {},
   "outputs": [
    {
     "data": {
      "text/plain": [
       "{'The Great Gatsby': {'price': 10.99, 'quantity': 5},\n",
       " 'Rich dad poor dad': {'price': 8.99, 'quantity': 8},\n",
       " 'Harry Potter': {'price': 12.5, 'quantity': 2}}"
      ]
     },
     "execution_count": 5,
     "metadata": {},
     "output_type": "execute_result"
    }
   ],
   "source": [
    "inventory = { \"The Great Gatsby\": {\"price\": 10.99, \"quantity\": 5}, \n",
    "             \"Rich dad poor dad\": {\"price\": 8.99, \"quantity\": 8}, \n",
    "             \"Harry Potter\": {\"price\": 12.50, \"quantity\": 2}, }\n",
    "inventory"
   ]
  },
  {
   "cell_type": "code",
   "execution_count": 6,
   "id": "eae9985f-49fc-4126-8b41-30400f6103ab",
   "metadata": {},
   "outputs": [
    {
     "name": "stdout",
     "output_type": "stream",
     "text": [
      "Updated Inventory:\n",
      "['The Great Gatsby', 'Rich dad poor dad', 'Harry Potter', 'To Kill a Mockingbird', 'The Catcher in the Rye']\n"
     ]
    }
   ],
   "source": [
    "new_book = {'To Kill a Mockingbird': {\"price\": 14.99, \"quantity\": 3}, \n",
    "            'The Catcher in the Rye': {\"price\": 11.99, \"quantity\": 0}}\n",
    "inventory.update(new_book)\n",
    "print(\"Updated Inventory:\")\n",
    "\n",
    "book_titles = list(inventory.keys())\n",
    "print(book_titles)"
   ]
  },
  {
   "cell_type": "code",
   "execution_count": 9,
   "id": "51575968-12b1-4943-8eb4-80990d92ed98",
   "metadata": {},
   "outputs": [
    {
     "name": "stdout",
     "output_type": "stream",
     "text": [
      "Updated Inventory:\n",
      "The Great Gatsby\n",
      "Rich dad poor dad\n",
      "Harry Potter\n",
      "To Kill a Mockingbird\n",
      "The Catcher in the Rye\n"
     ]
    }
   ],
   "source": [
    "#Using for loop\n",
    "new_book = {'To Kill a Mockingbird': {\"price\": 14.99, \"quantity\": 3}, \n",
    "            'The Catcher in the Rye': {\"price\": 11.99, \"quantity\": 0}}\n",
    "inventory.update(new_book)\n",
    "print(\"Updated Inventory:\")\n",
    "for book in inventory:\n",
    "    print(book)"
   ]
  },
  {
   "cell_type": "code",
   "execution_count": 12,
   "id": "2b40a583-7d8e-4fb8-8d55-07886340d312",
   "metadata": {},
   "outputs": [
    {
     "name": "stdout",
     "output_type": "stream",
     "text": [
      "Updated Inventory:\n",
      "The Great Gatsby {'price': 10.99, 'quantity': 5}\n",
      "Rich dad poor dad {'price': 8.99, 'quantity': 8}\n",
      "Harry Potter {'price': 12.5, 'quantity': 2}\n",
      "To Kill a Mockingbird {'price': 14.99, 'quantity': 3}\n"
     ]
    }
   ],
   "source": [
    "for book, details in inventory.items():\n",
    "    if details[\"quantity\"] == 0:\n",
    "        del inventory[book] \n",
    "print(\"Updated Inventory:\")\n",
    "for book, details in inventory.items():\n",
    "    print((book), (details))"
   ]
  },
  {
   "cell_type": "markdown",
   "id": "14cef099-6b7d-441e-8d6a-19980b8c847a",
   "metadata": {},
   "source": [
    "________________________________________________________________________________________________________________________________________________________"
   ]
  },
  {
   "cell_type": "markdown",
   "id": "8749ce91-e41a-44df-becc-5f1ed242304b",
   "metadata": {},
   "source": [
    "# Q3. \n",
    "An ecommerce store stores information about its products in a nested dictionary.  \n",
    "The outer dictionary uses product IDs as keys, and the inner dictionary stores product details like name, category, price, and stock quantity.  \n",
    "products = { 101: {&quot;name&quot;: &quot;Laptop&quot;, &quot;category&quot;: &quot;Electronics&quot;, &quot;price&quot;: 1200, &quot;stock&quot;: 50},  \n",
    "&nbsp;&nbsp;&nbsp;&nbsp;&nbsp;&nbsp;&nbsp;&nbsp;&nbsp;&nbsp;&nbsp;&nbsp;&nbsp;&nbsp;&nbsp;&nbsp;&nbsp;&nbsp;&nbsp;&nbsp; 102:\n",
    "{&quot;name&quot;: &quot;Shirt&quot;, &quot;category&quot;: &quot;Apparel&quot;, &quot;price&quot;: 25, &quot;stock&quot;: 200},  \n",
    "&nbsp;&nbsp;&nbsp;&nbsp;&nbsp;&nbsp;&nbsp;&nbsp;&nbsp;&nbsp;&nbsp;&nbsp;&nbsp;&nbsp;&nbsp;&nbsp;&nbsp;&nbsp;&nbsp;&nbsp; 103: {&quot;name&quot;: &quot;Coffee Maker&quot;,\n",
    "&quot;category&quot;: &quot;Home Appliances&quot;, &quot;price&quot;: 80, &quot;stock&quot;: 30} }  \n",
    "• Increase the stock of the &quot;Shirt&quot; product (add 50 more units)  \n",
    "• Add a new product (e.g., &quot;Smartphone&quot;)"
   ]
  },
  {
   "cell_type": "code",
   "execution_count": 13,
   "id": "343c9bb9-641f-4241-ac08-705eb1a2fc10",
   "metadata": {},
   "outputs": [
    {
     "name": "stdout",
     "output_type": "stream",
     "text": [
      "Product ID:  101\n",
      "Name:  Laptop\n",
      "Category:  Electronics\n",
      "Price: $ 1200\n",
      "Stock:  50\n",
      "------------------------------\n",
      "Product ID:  102\n",
      "Name:  Shirt\n",
      "Category:  Apparel\n",
      "Price: $ 25\n",
      "Stock:  200\n",
      "------------------------------\n",
      "Product ID:  103\n",
      "Name:  Coffee Maker\n",
      "Category:  Home Appliances\n",
      "Price: $ 80\n",
      "Stock:  30\n",
      "------------------------------\n"
     ]
    }
   ],
   "source": [
    "products = { \n",
    "    101: {\"name\": \"Laptop\", \"category\": \"Electronics\", \"price\": 1200, \"stock\": 50},\n",
    "    102: {\"name\": \"Shirt\", \"category\": \"Apparel\", \"price\": 25, \"stock\": 200},\n",
    "    103: {\"name\": \"Coffee Maker\", \"category\": \"Home Appliances\", \"price\": 80, \"stock\": 30} \n",
    "}\n",
    "for product_id, product_details in products.items():\n",
    "    print(\"Product ID: \", (product_id))\n",
    "    print(\"Name: \", (product_details['name']))\n",
    "    print(\"Category: \", (product_details['category']))\n",
    "    print(\"Price: $\", (product_details['price']))\n",
    "    print(\"Stock: \", (product_details['stock']))\n",
    "    print(\"-\" * 30)"
   ]
  },
  {
   "cell_type": "code",
   "execution_count": 15,
   "id": "1545b84e-c8b4-47b7-9c2c-a984f871480f",
   "metadata": {},
   "outputs": [
    {
     "name": "stdout",
     "output_type": "stream",
     "text": [
      "Updated Inventory:\n",
      "Product ID:  101\n",
      "Name:  Laptop\n",
      "Category:  Electronics\n",
      "Price: $ 1200\n",
      "Stock:  50\n",
      "------------------------------\n",
      "Product ID:  102\n",
      "Name:  Shirt\n",
      "Category:  Apparel\n",
      "Price: $ 25\n",
      "Stock:  300\n",
      "------------------------------\n",
      "Product ID:  103\n",
      "Name:  Coffee Maker\n",
      "Category:  Home Appliances\n",
      "Price: $ 80\n",
      "Stock:  30\n",
      "------------------------------\n"
     ]
    }
   ],
   "source": [
    "products[102][\"stock\"] += 50\n",
    "print(\"Updated Inventory:\")\n",
    "for product_id, product_details in products.items():\n",
    "    print(\"Product ID: \", (product_id))\n",
    "    print(\"Name: \", (product_details['name']))\n",
    "    print(\"Category: \", (product_details['category']))\n",
    "    print(\"Price: $\", (product_details['price']))\n",
    "    print(\"Stock: \", (product_details['stock']))\n",
    "    print(\"-\" * 30)"
   ]
  },
  {
   "cell_type": "code",
   "execution_count": 16,
   "id": "af2b2833-4f3e-4855-97c2-edf3f5acd1e9",
   "metadata": {},
   "outputs": [
    {
     "name": "stdout",
     "output_type": "stream",
     "text": [
      "Updated Inventory:\n",
      "Product ID:  101\n",
      "Name:  Laptop\n",
      "Category:  Electronics\n",
      "Price: $ 1200\n",
      "Stock:  50\n",
      "------------------------------\n",
      "Product ID:  102\n",
      "Name:  Shirt\n",
      "Category:  Apparel\n",
      "Price: $ 25\n",
      "Stock:  300\n",
      "------------------------------\n",
      "Product ID:  103\n",
      "Name:  Coffee Maker\n",
      "Category:  Home Appliances\n",
      "Price: $ 80\n",
      "Stock:  30\n",
      "------------------------------\n",
      "Product ID:  104\n",
      "Name:  Smartphone X\n",
      "Category:  Electronics\n",
      "Price: $ 699\n",
      "Stock:  50\n",
      "------------------------------\n"
     ]
    }
   ],
   "source": [
    "Smartphone = {\n",
    "    104: {\"name\": \"Smartphone X\", \"category\": \"Electronics\", \"price\": 699, \"stock\": 50}\n",
    "}\n",
    "products.update(Smartphone)\n",
    "print(\"Updated Inventory:\")\n",
    "for product_id, product_details in products.items():\n",
    "    print(\"Product ID: \", (product_id))\n",
    "    print(\"Name: \", (product_details['name']))\n",
    "    print(\"Category: \", (product_details['category']))\n",
    "    print(\"Price: $\", (product_details['price']))\n",
    "    print(\"Stock: \", (product_details['stock']))\n",
    "    print(\"-\" * 30)"
   ]
  },
  {
   "cell_type": "markdown",
   "id": "b7b798be-c492-4cd6-b695-b5dd1a1898d6",
   "metadata": {},
   "source": [
    "________________________________________________________________________________________________________________________________________________________"
   ]
  },
  {
   "cell_type": "markdown",
   "id": "73022665-d855-49f1-ba94-56a8dfaff398",
   "metadata": {},
   "source": [
    "# Q4. \n",
    "You are given a list that contains some duplicate items.  \n",
    "• Remove the duplicates by converting the list to a set.  \n",
    "shopping_list = [&quot;apple&quot;, &quot;banana&quot;, &quot;apple&quot;, &quot;orange&quot;, &quot;banana&quot;, &quot;grape&quot;]"
   ]
  },
  {
   "cell_type": "code",
   "execution_count": 17,
   "id": "1b0eebde-9cee-4b17-a550-84ef716609b7",
   "metadata": {},
   "outputs": [
    {
     "data": {
      "text/plain": [
       "['apple', 'banana', 'apple', 'orange', 'banana', 'grape']"
      ]
     },
     "execution_count": 17,
     "metadata": {},
     "output_type": "execute_result"
    }
   ],
   "source": [
    "shopping_list = [\"apple\", \"banana\", \"apple\", \"orange\", \"banana\", \"grape\"]\n",
    "shopping_list"
   ]
  },
  {
   "cell_type": "code",
   "execution_count": 18,
   "id": "abff2265-b327-4e07-b811-5bf7bce73847",
   "metadata": {},
   "outputs": [
    {
     "data": {
      "text/plain": [
       "{'apple', 'banana', 'grape', 'orange'}"
      ]
     },
     "execution_count": 18,
     "metadata": {},
     "output_type": "execute_result"
    }
   ],
   "source": [
    "shopping_set = set(shopping_list)\n",
    "shopping_set"
   ]
  },
  {
   "cell_type": "markdown",
   "id": "9fca35e2-b20a-41a5-8700-d949fdba08e9",
   "metadata": {},
   "source": [
    "________________________________________________________________________________________________________________________________________________________"
   ]
  },
  {
   "cell_type": "markdown",
   "id": "ce39252b-4864-461b-8e3a-9ed6deb08454",
   "metadata": {},
   "source": [
    "# Q5. \n",
    "You are managing a list of students enrolled in two different courses.  \n",
    "You need to perform various set operations to understand the student enrollment.  \n",
    "#### Task: Create two sets:  \n",
    "one for students in &quot;Course A&quot; and one for students in &quot;Course B&quot;.  \n",
    "\n",
    "• Find the students who are in &quot;Course A&quot; but not in &quot;Course B&quot; (difference).   \n",
    "• Find students who are only in one of the two courses (symmetric difference).   \n",
    "\n",
    "course_a = {&quot;John&quot;, &quot;Alice&quot;, &quot;Bob&quot;, &quot;David&quot;}  \n",
    "course_b = {&quot;Alice&quot;, &quot;Eve&quot;, &quot;Charlie&quot;, &quot;David&quot;}  "
   ]
  },
  {
   "cell_type": "code",
   "execution_count": 19,
   "id": "9fd1c7c0-55d7-49e8-b514-e41d296a1a6c",
   "metadata": {},
   "outputs": [
    {
     "name": "stdout",
     "output_type": "stream",
     "text": [
      "Difference: {'Bob', 'John'}\n",
      "Symmetric Difference: {'Charlie', 'John', 'Eve', 'Bob'}\n"
     ]
    }
   ],
   "source": [
    "course_a = {\"John\", \"Alice\", \"Bob\", \"David\"}\n",
    "course_b = {\"Alice\", \"Eve\", \"Charlie\", \"David\"}\n",
    "\n",
    "#difference\n",
    "difference = course_a - course_b\n",
    "print(\"Difference:\", difference)\n",
    "\n",
    "#symmetric difference\n",
    "symmetric_difference = course_a ^ course_b\n",
    "print(\"Symmetric Difference:\", symmetric_difference)"
   ]
  },
  {
   "cell_type": "markdown",
   "id": "9b501deb-4081-4784-868e-46c779549f81",
   "metadata": {},
   "source": [
    "________________________________________________________________________________________________________________________________________________________"
   ]
  },
  {
   "cell_type": "markdown",
   "id": "8ff2401b-30ac-4926-96db-3f2e68f08d16",
   "metadata": {},
   "source": [
    "# Q6.  \n",
    "Write a Python program that calculates the sum of all even numbers between 1 and 50 (inclusive) using a for loop.\n",
    "#### Hint\n",
    "1. Initialize a variable to hold the sum (e.g., sum_of_evens).  \n",
    "2. Use a for loop to iterate through all numbers from 1 to 50.  \n",
    "3. Inside the loop, check if the number is even.  \n",
    "4. If the number is even, add it to sum_of_evens.\n",
    "5. After the loop finishes, print the total sum of all even numbers between 1 and 50.\n"
   ]
  },
  {
   "cell_type": "code",
   "execution_count": 20,
   "id": "95a69d48-ef8b-40ae-9cce-4f96cd0db042",
   "metadata": {},
   "outputs": [
    {
     "name": "stdout",
     "output_type": "stream",
     "text": [
      "Sum of all even numbers between 1 and 50: 650\n"
     ]
    }
   ],
   "source": [
    "# 1. Initialize a variable to hold the sum\n",
    "sum_of_evens = 0\n",
    "\n",
    "# 2. Use a for loop to iterate through all numbers from 1 to 50.\n",
    "for num in range(1, 51):\n",
    "    #3. Check if the number is even\n",
    "    if num % 2 == 0:\n",
    "        sum_of_evens += num  #4. Add the even number to sum_of_evens\n",
    "\n",
    "#5. print the total sum of all even numbers\n",
    "print(\"Sum of all even numbers between 1 and 50:\", sum_of_evens)"
   ]
  },
  {
   "cell_type": "markdown",
   "id": "bb1101f9-6d3b-46e6-96fa-bb75404b7193",
   "metadata": {},
   "source": [
    "________________________________________________________________________________________________________________________________________________________"
   ]
  },
  {
   "cell_type": "markdown",
   "id": "e7fe79c6-baa5-4a3e-8f8e-19b20c70398c",
   "metadata": {},
   "source": [
    "# Q7. \n",
    "Write a Python program that prints the multiplication table for a given number (between 1 and 10) using a for loop.\n",
    "\n",
    "#### Hint:\n",
    "1. Ask the user for a number between 1 and 10 .\n",
    "2. Use a for loop to iterate through the numbers from 1 to 10.\n",
    "3. For each iteration, calculate the product of the given number and the current number in the\n",
    "loop.\n",
    "4. Print the result in a readable format (e.g., 5 x 1 = 5).\n",
    "5. Ensure the program works correctly for any number between 1 and 10.\n",
    "\n",
    "#### Output Hint:  \n",
    "4 x 1 = 4  \n",
    "4 x 2 = 8  \n",
    "4 x 3 = 12  \n",
    "4 x 4 = 16  \n",
    "4 x 5 = 20  \n",
    "4 x 6 = 24  \n",
    "4 x 7 = 28  \n",
    "4 x 8 = 32  \n",
    "4 x 9 = 36  \n",
    "4 x 10 = 40\n"
   ]
  },
  {
   "cell_type": "code",
   "execution_count": 22,
   "id": "2aadf824-8554-4d6a-a8cc-6bf05c73a959",
   "metadata": {},
   "outputs": [
    {
     "name": "stdin",
     "output_type": "stream",
     "text": [
      "Enter a number between 1 and 10:  10\n"
     ]
    },
    {
     "name": "stdout",
     "output_type": "stream",
     "text": [
      "User Input:  10\n",
      "10 x 1 = 10\n",
      "10 x 2 = 20\n",
      "10 x 3 = 30\n",
      "10 x 4 = 40\n",
      "10 x 5 = 50\n",
      "10 x 6 = 60\n",
      "10 x 7 = 70\n",
      "10 x 8 = 80\n",
      "10 x 9 = 90\n",
      "10 x 10 = 100\n"
     ]
    }
   ],
   "source": [
    "#1. Ask the user to input a number between 1 and 10\n",
    "number = int(input(\"Enter a number between 1 and 10: \"))\n",
    "print(\"User Input: \", number)\n",
    "\n",
    "if 1 <= number <= 10:\n",
    "    #2. Use a for loop to iterate through numbers from 1 to 10\n",
    "    for i in range(1, 11):\n",
    "        #3. Calculate the product and 4. print it in a readable format\n",
    "        print(f\"{number} x {i} = {number * i}\")\n",
    "else:\n",
    "    print(\"Please enter a number between 1 and 10.\")"
   ]
  },
  {
   "cell_type": "markdown",
   "id": "44c60c92-8662-49e3-a99e-c114f1c8311c",
   "metadata": {},
   "source": [
    "________________________________________________________________________________________________________________________________________________________"
   ]
  },
  {
   "cell_type": "markdown",
   "id": "c9cd71a7-d4ec-4f02-b25f-a53ecac67161",
   "metadata": {},
   "source": [
    "# Q8. Power of a Number\n",
    "Write a Python program that takes a number and prints the powers of the number (starting from 1 to 10) using a while loop.  \n",
    "For example, if the user inputs 3, the output should be:  \n",
    "3^1 = 3  \n",
    "3^2 = 9  \n",
    "3^3 = 27  \n",
    "... up to 3^10.\n"
   ]
  },
  {
   "cell_type": "code",
   "execution_count": 23,
   "id": "e26f67f5-e940-4463-b3cc-279499055e5c",
   "metadata": {},
   "outputs": [
    {
     "name": "stdin",
     "output_type": "stream",
     "text": [
      "Enter a number:  5\n"
     ]
    },
    {
     "name": "stdout",
     "output_type": "stream",
     "text": [
      "User Input:  5\n",
      "5^1 = 5\n",
      "5^2 = 25\n",
      "5^3 = 125\n",
      "5^4 = 625\n",
      "5^5 = 3125\n",
      "5^6 = 15625\n",
      "5^7 = 78125\n",
      "5^8 = 390625\n",
      "5^9 = 1953125\n",
      "5^10 = 9765625\n"
     ]
    }
   ],
   "source": [
    "num = int(input(\"Enter a number: \"))\n",
    "print(\"User Input: \", num)\n",
    "\n",
    "exponent = 1\n",
    "\n",
    "while exponent <= 10:\n",
    "    print(f\"{num}^{exponent} = {num ** exponent}\")\n",
    "    exponent += 1"
   ]
  },
  {
   "cell_type": "markdown",
   "id": "c4b1ae56-0a2f-4afd-b09d-b1bba217243a",
   "metadata": {},
   "source": [
    "________________________________________________________________________________________________________________________________________________________"
   ]
  },
  {
   "cell_type": "markdown",
   "id": "09adc622-441f-49a5-8430-57134342feaa",
   "metadata": {},
   "source": [
    "# Q9. \n",
    "#### Problem Statement: \n",
    "Write a Python program that takes an integer input from the user and counts down from that number to 0.   \n",
    "The program should display the current number at each step until it reaches 0, at which point it should print a message indicating the countdown is finished\n",
    "#### Output Hint: \n",
    "Enter a number to start the countdown: 3  \n",
    "3  \n",
    "2  \n",
    "1  \n",
    "0  \n",
    "Countdown finished!\n"
   ]
  },
  {
   "cell_type": "code",
   "execution_count": 24,
   "id": "ae585c82-2cb5-4eca-af93-819439fe3482",
   "metadata": {},
   "outputs": [
    {
     "name": "stdin",
     "output_type": "stream",
     "text": [
      "Enter a number to start the countdown:  9\n"
     ]
    },
    {
     "name": "stdout",
     "output_type": "stream",
     "text": [
      "User Input:  9\n",
      "9\n",
      "8\n",
      "7\n",
      "6\n",
      "5\n",
      "4\n",
      "3\n",
      "2\n",
      "1\n",
      "0\n",
      "Countdown finished!\n"
     ]
    }
   ],
   "source": [
    "numberr = int(input(\"Enter a number to start the countdown: \"))\n",
    "print(\"User Input: \", numberr)\n",
    "\n",
    "while numberr >= 0:\n",
    "    print(numberr)\n",
    "    numberr -= 1\n",
    "\n",
    "print(\"Countdown finished!\")"
   ]
  },
  {
   "cell_type": "markdown",
   "id": "66d7f628-440c-4889-ba3a-66a7fd73930a",
   "metadata": {},
   "source": [
    "________________________________________________________________________________________________________________________________________________________"
   ]
  },
  {
   "cell_type": "markdown",
   "id": "437395cb-4489-45ed-8884-9b6db88c152d",
   "metadata": {},
   "source": [
    "# Q10. \n",
    "Write a Python program that takes an integer input n from the user and generates a right-angled triangle pattern of stars (*) with n rows.  \n",
    "The first row should contain 1 star, the second row 2 stars, the third row 3 stars, and so on until the nth row.  \n",
    "Ensure the stars in each row are separated by spaces, and each row starts on a new line.  \n",
    "#### Pattern:  \n",
    "\\*  \n",
    "\\**  \n",
    "\\***  \n",
    "\\****  \n",
    "\\*****"
   ]
  },
  {
   "cell_type": "code",
   "execution_count": 25,
   "id": "6910ac20-ec32-42a9-b7da-63027a14d09d",
   "metadata": {},
   "outputs": [
    {
     "name": "stdin",
     "output_type": "stream",
     "text": [
      "Enter the number of rows for the triangle:  5\n"
     ]
    },
    {
     "name": "stdout",
     "output_type": "stream",
     "text": [
      "User Input:  5\n",
      "*\n",
      "* *\n",
      "* * *\n",
      "* * * *\n",
      "* * * * *\n"
     ]
    }
   ],
   "source": [
    "n = int(input(\"Enter the number of rows for the triangle: \"))\n",
    "print(\"User Input: \", n)\n",
    "\n",
    "for i in range(1, n + 1):\n",
    "    print(\" \".join(\"*\" * i))"
   ]
  },
  {
   "cell_type": "markdown",
   "id": "b848abf0-b707-4f19-b30d-c22adb680fea",
   "metadata": {},
   "source": [
    "________________________________________________________________________________________________________________________________________________________"
   ]
  }
 ],
 "metadata": {
  "kernelspec": {
   "display_name": "Python 3 (ipykernel)",
   "language": "python",
   "name": "python3"
  },
  "language_info": {
   "codemirror_mode": {
    "name": "ipython",
    "version": 3
   },
   "file_extension": ".py",
   "mimetype": "text/x-python",
   "name": "python",
   "nbconvert_exporter": "python",
   "pygments_lexer": "ipython3",
   "version": "3.12.7"
  }
 },
 "nbformat": 4,
 "nbformat_minor": 5
}
